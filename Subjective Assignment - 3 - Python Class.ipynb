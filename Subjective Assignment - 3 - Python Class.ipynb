{
 "cells": [
  {
   "cell_type": "markdown",
   "metadata": {},
   "source": [
    "# Assignment"
   ]
  },
  {
   "cell_type": "markdown",
   "metadata": {},
   "source": [
    "Q1. Write the Python class to convert an integer to a roman numeral?"
   ]
  },
  {
   "cell_type": "code",
   "execution_count": 2,
   "metadata": {},
   "outputs": [
    {
     "name": "stdout",
     "output_type": "stream",
     "text": [
      "XI\n",
      "MMM\n"
     ]
    }
   ],
   "source": [
    "class pysolution:\n",
    "    def int_to_Roman(self, num):\n",
    "        val = [\n",
    "            1000, 900, 500, 400,\n",
    "            100, 90, 50, 40,\n",
    "            10, 9, 5, 4,\n",
    "            1\n",
    "            ]\n",
    "        syb = [\n",
    "            \"M\", \"CM\", \"D\", \"CD\",\n",
    "            \"C\", \"XC\", \"L\", \"XL\",\n",
    "            \"X\", \"IX\", \"V\", \"IV\",\n",
    "            \"I\"\n",
    "            ]\n",
    "        roman_num = ''\n",
    "        i = 0\n",
    "        while  num > 0:\n",
    "            for _ in range(num // val[i]):\n",
    "                roman_num += syb[i]\n",
    "                num -= val[i]\n",
    "            i += 1\n",
    "        return roman_num\n",
    "\n",
    "\n",
    "print(pysolution().int_to_Roman(11))\n",
    "print(pysolution().int_to_Roman(3000))"
   ]
  },
  {
   "cell_type": "markdown",
   "metadata": {},
   "source": [
    "Q2 Write the Python class to convert a Roman numeral to an integer?\n"
   ]
  },
  {
   "cell_type": "code",
   "execution_count": 3,
   "metadata": {},
   "outputs": [
    {
     "name": "stdout",
     "output_type": "stream",
     "text": [
      "986\n",
      "3000\n",
      "100\n"
     ]
    }
   ],
   "source": [
    "class py_solution:\n",
    "    def roman_to_int(self, s):\n",
    "        rom_val = {'I': 1, 'V': 5, 'X': 10, 'L': 50, 'C': 100, 'D': 500, 'M': 1000}\n",
    "        int_val = 0\n",
    "        for i in range(len(s)):\n",
    "            if i > 0 and rom_val[s[i]] > rom_val[s[i - 1]]:\n",
    "                int_val += rom_val[s[i]] - 2 * rom_val[s[i - 1]]\n",
    "            else:\n",
    "                int_val += rom_val[s[i]]\n",
    "        return int_val\n",
    "\n",
    "print(py_solution().roman_to_int('CMLXXXVI'))\n",
    "print(py_solution().roman_to_int('MMM'))\n",
    "print(py_solution().roman_to_int('C'))"
   ]
  },
  {
   "cell_type": "markdown",
   "metadata": {},
   "source": [
    "Q3. Write the Python class to find the validity of the string of the\n",
    "parentheses, '(', ')', '{', '}', '[' and '] and the brackets must be closed\n",
    "in the correct order, example - \"()\" and \"()[]{}\" are valid but \"[)\",\n",
    "\"({[)]\" and \"{{{\" are invalid.\n"
   ]
  },
  {
   "cell_type": "code",
   "execution_count": 1,
   "metadata": {},
   "outputs": [
    {
     "name": "stdout",
     "output_type": "stream",
     "text": [
      "True\n",
      "False\n",
      "True\n"
     ]
    }
   ],
   "source": [
    "class py_solution:\n",
    "   def is_valid_parenthese(self, str1):\n",
    "        stack, pchar = [], {\"(\": \")\", \"{\": \"}\", \"[\": \"]\"}\n",
    "        for parenthese in str1:\n",
    "            if parenthese in pchar:\n",
    "                stack.append(parenthese)\n",
    "            elif len(stack) == 0 or pchar[stack.pop()] != parenthese:\n",
    "                return False\n",
    "        return len(stack) == 0\n",
    "\n",
    "print(py_solution().is_valid_parenthese(\"(){}[]\"))\n",
    "print(py_solution().is_valid_parenthese(\"()[{)}\"))\n",
    "print(py_solution().is_valid_parenthese(\"()\"))"
   ]
  },
  {
   "cell_type": "markdown",
   "metadata": {},
   "source": [
    "Q4. Write the Python class to get all possible unique subsets from a set\n",
    "of distinct integers?\n",
    "\n",
    "    Input - [4, 5, 6]\n",
    "    Output - [[], [6], [5], [5, 6], [4], [4, 6], [4, 5], [4, 5, 6]]"
   ]
  },
  {
   "cell_type": "code",
   "execution_count": 2,
   "metadata": {},
   "outputs": [
    {
     "name": "stdout",
     "output_type": "stream",
     "text": [
      "[[], [6], [5], [5, 6], [4], [4, 6], [4, 5], [4, 5, 6]]\n"
     ]
    }
   ],
   "source": [
    "class py_solution:\n",
    "    def sub_sets(self, sset):\n",
    "        return self.subsetsRecur([], sorted(sset))\n",
    "    \n",
    "    def subsetsRecur(self, current, sset):\n",
    "        if sset:\n",
    "            return self.subsetsRecur(current, sset[1:]) + self.subsetsRecur(current + [sset[0]], sset[1:])\n",
    "        return [current]\n",
    "\n",
    "print(py_solution().sub_sets([4,5,6]))"
   ]
  },
  {
   "cell_type": "markdown",
   "metadata": {},
   "source": [
    "Q5. Write the Python class to find a pair of elements (indices of the two\n",
    "numbers) from a given array whose sum equals the specific target\n",
    "number?\n",
    "\n",
    "    Input: numbers- [10,20,10,40,50,60,70], target=50\n",
    "    Output- 3, 4"
   ]
  },
  {
   "cell_type": "code",
   "execution_count": 4,
   "metadata": {},
   "outputs": [
    {
     "name": "stdout",
     "output_type": "stream",
     "text": [
      "index1=2, index2=3\n"
     ]
    }
   ],
   "source": [
    "class py_solution:\n",
    "   def twoSum(self, nums, target):\n",
    "        lookup = {}\n",
    "        for i, num in enumerate(nums):\n",
    "            if target - num in lookup:\n",
    "                return (lookup[target - num], i )\n",
    "            lookup[num] = i\n",
    "print(\"index1=%d, index2=%d\" % py_solution().twoSum((10,20,10,40,50,60,70),50))"
   ]
  },
  {
   "cell_type": "markdown",
   "metadata": {},
   "source": [
    "Q6. Write the Python class to find the three elements that sum to zero\n",
    "from the set of n real numbers?\n",
    "\n",
    "    Input array- [-25, -10, -7, -3, 2, 4, 8, 10]\n",
    "    Output - [[-10, 2, 8], [-7, -3, 10]]\n"
   ]
  },
  {
   "cell_type": "code",
   "execution_count": 5,
   "metadata": {},
   "outputs": [],
   "source": [
    "class py_solution:\n",
    " def threeSum(self, nums):\n",
    "        nums, result, i = sorted(nums), [], 0\n",
    "        while i < len(nums) - 2:\n",
    "            j, k = i + 1, len(nums) - 1\n",
    "            while j < k:\n",
    "                if nums[i] + nums[j] + nums[k] < 0:\n",
    "                    j += 1\n",
    "                elif nums[i] + nums[j] + nums[k] > 0:\n",
    "                    k -= 1\n",
    "                else:\n",
    "                    result.append([nums[i], nums[j], nums[k]])\n",
    "                    j, k = j + 1, k - 1\n",
    "                    while j < k and nums[j] == nums[j - 1]:\n",
    "                        j += 1\n",
    "                    while j < k and nums[k] == nums[k + 1]:\n",
    "                        k -= 1\n",
    "            i += 1\n",
    "            while i < len(nums) - 2 and nums[i] == nums[i - 1]:\n",
    "                i += 1\n",
    "        return result"
   ]
  },
  {
   "cell_type": "code",
   "execution_count": 6,
   "metadata": {},
   "outputs": [
    {
     "name": "stdout",
     "output_type": "stream",
     "text": [
      "[[-10, 2, 8], [-7, -3, 10]]\n"
     ]
    }
   ],
   "source": [
    "print(py_solution().threeSum([-25, -10, -7, -3, 2, 4, 8, 10]))"
   ]
  },
  {
   "cell_type": "markdown",
   "metadata": {},
   "source": [
    "Q7. Write the Python class to implement pow(x, n)?"
   ]
  },
  {
   "cell_type": "code",
   "execution_count": 7,
   "metadata": {},
   "outputs": [
    {
     "name": "stdout",
     "output_type": "stream",
     "text": [
      "0.125\n",
      "243\n",
      "1\n"
     ]
    }
   ],
   "source": [
    "class py_solution:\n",
    "   def pow(self, x, n):\n",
    "        if x==0 or x==1 or n==1:\n",
    "            return x \n",
    "\n",
    "        if x==-1:\n",
    "            if n%2 ==0:\n",
    "                return 1\n",
    "            else:\n",
    "                return -1\n",
    "        if n==0:\n",
    "            return 1\n",
    "        if n<0:\n",
    "            return 1/self.pow(x,-n)\n",
    "        val = self.pow(x,n//2)\n",
    "        if n%2 ==0:\n",
    "            return val*val\n",
    "        return val*val*x\n",
    "\n",
    "print(py_solution().pow(2, -3));\n",
    "print(py_solution().pow(3, 5));\n",
    "print(py_solution().pow(100, 0));"
   ]
  },
  {
   "cell_type": "markdown",
   "metadata": {},
   "source": [
    "Q8. Write the Python class which has two methods get_String and\n",
    "print_String. get_String accept the string from the user and \n",
    "print_String print the string in upper case."
   ]
  },
  {
   "cell_type": "code",
   "execution_count": 8,
   "metadata": {},
   "outputs": [
    {
     "name": "stdout",
     "output_type": "stream",
     "text": [
      "sayali\n",
      "SAYALI\n"
     ]
    }
   ],
   "source": [
    "class IOString():\n",
    "    def __init__(self):\n",
    "        self.str1 = \"\"\n",
    "\n",
    "    def get_String(self):\n",
    "        self.str1 = input()\n",
    "\n",
    "    def print_String(self):\n",
    "        print(self.str1.upper())\n",
    "\n",
    "str1 = IOString()\n",
    "str1.get_String()\n",
    "str1.print_String()"
   ]
  },
  {
   "cell_type": "markdown",
   "metadata": {},
   "source": [
    "Q9. Write the Python class named Rectangle constructed by a length\n",
    "and width and the method which will compute the area of the\n",
    "rectangle?"
   ]
  },
  {
   "cell_type": "code",
   "execution_count": 9,
   "metadata": {},
   "outputs": [
    {
     "name": "stdout",
     "output_type": "stream",
     "text": [
      "120\n"
     ]
    }
   ],
   "source": [
    "class Rectangle():\n",
    "    def __init__(self, l, w):\n",
    "        self.length = l\n",
    "        self.width  = w\n",
    "\n",
    "    def rectangle_area(self):\n",
    "        return self.length*self.width\n",
    "\n",
    "newRectangle = Rectangle(12, 10)\n",
    "print(newRectangle.rectangle_area())"
   ]
  },
  {
   "cell_type": "markdown",
   "metadata": {},
   "source": [
    "Q10. Write the Python class named Circle constructed by the radius\n",
    "and two methods which will compute the area and perimeter of\n",
    "the circle?"
   ]
  },
  {
   "cell_type": "code",
   "execution_count": 10,
   "metadata": {},
   "outputs": [
    {
     "name": "stdout",
     "output_type": "stream",
     "text": [
      "200.96\n",
      "50.24\n"
     ]
    }
   ],
   "source": [
    "class Circle():\n",
    "    def __init__(self, r):\n",
    "        self.radius = r\n",
    "\n",
    "    def area(self):\n",
    "        return self.radius**2*3.14\n",
    "    \n",
    "    def perimeter(self):\n",
    "        return 2*self.radius*3.14\n",
    "\n",
    "NewCircle = Circle(8)\n",
    "print(NewCircle.area())\n",
    "print(NewCircle.perimeter())"
   ]
  },
  {
   "cell_type": "markdown",
   "metadata": {},
   "source": [
    "Q11. Write the Python program to get the class name of an instance in\n",
    "Python?"
   ]
  },
  {
   "cell_type": "code",
   "execution_count": 11,
   "metadata": {},
   "outputs": [
    {
     "name": "stdout",
     "output_type": "stream",
     "text": [
      "cycle\n"
     ]
    }
   ],
   "source": [
    "import itertools\n",
    "x = itertools.cycle('ABCD')\n",
    "print(type(x).__name__)"
   ]
  },
  {
   "cell_type": "markdown",
   "metadata": {},
   "source": [
    "Q12. Write the Python program to count the number of students of\n",
    "individual class?\n",
    "\n",
    "    Sample dataclasses = (\n",
    "    ('V', 1),\n",
    "    ('VI', 1),\n",
    "    ('V', 2),\n",
    "    ('VI', 2),\n",
    "    ('VI', 3),\n",
    "    ('VII', 1),\n",
    "    )\n",
    "    Expected OutputCounter({'VI': 3, 'V': 2, 'VII': 1})"
   ]
  },
  {
   "cell_type": "code",
   "execution_count": 12,
   "metadata": {},
   "outputs": [
    {
     "name": "stdout",
     "output_type": "stream",
     "text": [
      "Counter({'VI': 3, 'V': 2, 'VII': 1})\n"
     ]
    }
   ],
   "source": [
    "from collections import Counter\n",
    "classes = (\n",
    "    ('V', 1),\n",
    "    ('VI', 1),\n",
    "    ('V', 2),\n",
    "    ('VI', 2),\n",
    "    ('VI', 3),\n",
    "    ('VII', 1),\n",
    ")\n",
    "students = Counter(class_name for class_name, no_students in classes)\n",
    "print(students)"
   ]
  },
  {
   "cell_type": "markdown",
   "metadata": {},
   "source": [
    "## Great Job!"
   ]
  }
 ],
 "metadata": {
  "kernelspec": {
   "display_name": "Python 3",
   "language": "python",
   "name": "python3"
  },
  "language_info": {
   "codemirror_mode": {
    "name": "ipython",
    "version": 3
   },
   "file_extension": ".py",
   "mimetype": "text/x-python",
   "name": "python",
   "nbconvert_exporter": "python",
   "pygments_lexer": "ipython3",
   "version": "3.7.4"
  }
 },
 "nbformat": 4,
 "nbformat_minor": 2
}

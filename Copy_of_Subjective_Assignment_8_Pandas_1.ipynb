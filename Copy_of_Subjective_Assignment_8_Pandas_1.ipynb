{
  "nbformat": 4,
  "nbformat_minor": 0,
  "metadata": {
    "kernelspec": {
      "display_name": "Python 3",
      "language": "python",
      "name": "python3"
    },
    "language_info": {
      "codemirror_mode": {
        "name": "ipython",
        "version": 3
      },
      "file_extension": ".py",
      "mimetype": "text/x-python",
      "name": "python",
      "nbconvert_exporter": "python",
      "pygments_lexer": "ipython3",
      "version": "3.7.4"
    },
    "colab": {
      "name": "Copy of Subjective Assignment - 8 - Pandas 1.ipynb",
      "provenance": [],
      "collapsed_sections": [],
      "toc_visible": true
    }
  },
  "cells": [
    {
      "cell_type": "markdown",
      "metadata": {
        "id": "2bCP6OQd5lWe",
        "colab_type": "text"
      },
      "source": [
        "# Assignment"
      ]
    },
    {
      "cell_type": "markdown",
      "metadata": {
        "id": "BXQdp18c5lWf",
        "colab_type": "text"
      },
      "source": [
        "Q1. Write the Python program to add, subtract, multiply and divide\n",
        "two pandas series ?\n",
        "\n",
        "    Sample Series- [2, 4, 6, 8, 10], [1, 3, 5, 7, 9]"
      ]
    },
    {
      "cell_type": "code",
      "metadata": {
        "id": "OURh8F8s5lWf",
        "colab_type": "code",
        "colab": {
          "base_uri": "https://localhost:8080/",
          "height": 487
        },
        "outputId": "2cd83c2d-32a1-471c-fc2a-547c2e5234ba"
      },
      "source": [
        "import pandas as pd\n",
        "ds1 = pd.Series([2, 4, 6, 8, 10])\n",
        "ds2 = pd.Series([1, 3, 5, 7, 9])\n",
        "ds = ds1 + ds2\n",
        "print(\"Add two Series:\")\n",
        "print(ds)\n",
        "print(\"Subtract two Series:\")\n",
        "ds = ds1 - ds2\n",
        "print(ds)\n",
        "print(\"Multiply two Series:\")\n",
        "ds = ds1 * ds2\n",
        "print(ds)\n",
        "print(\"Divide Series1 by Series2:\")\n",
        "ds = ds1 / ds2\n",
        "print(ds)"
      ],
      "execution_count": 1,
      "outputs": [
        {
          "output_type": "stream",
          "text": [
            "Add two Series:\n",
            "0     3\n",
            "1     7\n",
            "2    11\n",
            "3    15\n",
            "4    19\n",
            "dtype: int64\n",
            "Subtract two Series:\n",
            "0    1\n",
            "1    1\n",
            "2    1\n",
            "3    1\n",
            "4    1\n",
            "dtype: int64\n",
            "Multiply two Series:\n",
            "0     2\n",
            "1    12\n",
            "2    30\n",
            "3    56\n",
            "4    90\n",
            "dtype: int64\n",
            "Divide Series1 by Series2:\n",
            "0    2.000000\n",
            "1    1.333333\n",
            "2    1.200000\n",
            "3    1.142857\n",
            "4    1.111111\n",
            "dtype: float64\n"
          ],
          "name": "stdout"
        }
      ]
    },
    {
      "cell_type": "markdown",
      "metadata": {
        "id": "PdvsF3iR5lWi",
        "colab_type": "text"
      },
      "source": [
        "Q2. Write a Python program to convert a dictionary to the Pandas\n",
        "Series?\n",
        "    \n",
        "    Sample SeriesOriginal dictionary-\n",
        "    {'a': 100, 'b': 200, 'c': 300, 'd': 400, 'e': 800}\n",
        "    Converted series -\n",
        "    a 100\n",
        "    b 200\n",
        "    c 300\n",
        "    d 400\n",
        "    e 800\n",
        "    dtype- int64"
      ]
    },
    {
      "cell_type": "code",
      "metadata": {
        "id": "c4bWVtlb5lWj",
        "colab_type": "code",
        "colab": {
          "base_uri": "https://localhost:8080/",
          "height": 168
        },
        "outputId": "dbd9d9ce-ed31-4e69-c719-280e13c5fd45"
      },
      "source": [
        "import pandas as pd\n",
        "d1 = {'a': 100, 'b': 200, 'c':300, 'd':400, 'e':800}\n",
        "print(\"Original dictionary:\")\n",
        "print(d1)\n",
        "new_series = pd.Series(d1)\n",
        "print(\"Converted series:\")\n",
        "print(new_series)"
      ],
      "execution_count": 2,
      "outputs": [
        {
          "output_type": "stream",
          "text": [
            "Original dictionary:\n",
            "{'a': 100, 'b': 200, 'c': 300, 'd': 400, 'e': 800}\n",
            "Converted series:\n",
            "a    100\n",
            "b    200\n",
            "c    300\n",
            "d    400\n",
            "e    800\n",
            "dtype: int64\n"
          ],
          "name": "stdout"
        }
      ]
    },
    {
      "cell_type": "markdown",
      "metadata": {
        "id": "AWz_fId65lWl",
        "colab_type": "text"
      },
      "source": [
        "Q3. Write a python program to change the data type of given a\n",
        "column or a Series?\n",
        "\n",
        "    Sample SeriesOriginal Data Series0 100\n",
        "    1 200\n",
        "    2 python\n",
        "    3 300.12\n",
        "    4 400\n",
        "    dtype- object\n",
        "    Change the said data type to numeric0 100.00\n",
        "    1 200.00\n",
        "    2 NaN\n",
        "    3 300.12\n",
        "    4 400.00\n",
        "    dtype- float64\n"
      ]
    },
    {
      "cell_type": "code",
      "metadata": {
        "id": "0h94zqvW5lWm",
        "colab_type": "code",
        "colab": {
          "base_uri": "https://localhost:8080/",
          "height": 252
        },
        "outputId": "e608007e-a786-4e0e-9159-7c59e0ea9810"
      },
      "source": [
        "import pandas as pd\n",
        "s1 = pd.Series(['100', '200', 'python', '300.12', '400'])\n",
        "print(\"Original Data Series:\")\n",
        "print(s1)\n",
        "print(\"Change the said data type to numeric:\")\n",
        "s2 = pd.to_numeric(s1, errors='coerce')\n",
        "print(s2)"
      ],
      "execution_count": 3,
      "outputs": [
        {
          "output_type": "stream",
          "text": [
            "Original Data Series:\n",
            "0       100\n",
            "1       200\n",
            "2    python\n",
            "3    300.12\n",
            "4       400\n",
            "dtype: object\n",
            "Change the said data type to numeric:\n",
            "0    100.00\n",
            "1    200.00\n",
            "2       NaN\n",
            "3    300.12\n",
            "4    400.00\n",
            "dtype: float64\n"
          ],
          "name": "stdout"
        }
      ]
    },
    {
      "cell_type": "markdown",
      "metadata": {
        "id": "s7U5uCzn5lWo",
        "colab_type": "text"
      },
      "source": [
        "Q4. Write the python pandas program to convert the first column of a\n",
        "DataFrame as a Series?\n",
        "\n",
        "    Sample OutputOriginal DataFramecol1 col2 col3\n",
        "    0 1 4 7\n",
        "    1 2 5 5\n",
        "    2 3 6 8\n",
        "    3 4 9 12\n",
        "    4 7 5 1\n",
        "    5 11 0 11\n",
        "    1st column as a Series0 1\n",
        "    1 2\n",
        "    2 3\n",
        "    3 4\n",
        "    4 7\n",
        "    5 11\n",
        "    Name- col1, dtype- int64\n",
        "    <class 'pandas.core.series.Series'>"
      ]
    },
    {
      "cell_type": "code",
      "metadata": {
        "id": "IfuyPXY15lWp",
        "colab_type": "code",
        "colab": {
          "base_uri": "https://localhost:8080/",
          "height": 319
        },
        "outputId": "e73a52d4-0ba3-42a2-f781-851c683e55b7"
      },
      "source": [
        "import pandas as pd\n",
        "d = {'col1': [1, 2, 3, 4, 7, 11], 'col2': [4, 5, 6, 9, 5, 0], 'col3': [7, 5, 8, 12, 1,11]}\n",
        "df = pd.DataFrame(data=d)\n",
        "print(\"Original DataFrame\")\n",
        "print(df)\n",
        "s1 = df.iloc[:,0]\n",
        "print(\"\\n1st column as a Series:\")\n",
        "print(s1)\n",
        "print(type(s1))"
      ],
      "execution_count": 5,
      "outputs": [
        {
          "output_type": "stream",
          "text": [
            "Original DataFrame\n",
            "   col1  col2  col3\n",
            "0     1     4     7\n",
            "1     2     5     5\n",
            "2     3     6     8\n",
            "3     4     9    12\n",
            "4     7     5     1\n",
            "5    11     0    11\n",
            "\n",
            "1st column as a Series:\n",
            "0     1\n",
            "1     2\n",
            "2     3\n",
            "3     4\n",
            "4     7\n",
            "5    11\n",
            "Name: col1, dtype: int64\n",
            "<class 'pandas.core.series.Series'>\n"
          ],
          "name": "stdout"
        }
      ]
    },
    {
      "cell_type": "markdown",
      "metadata": {
        "id": "FpUi8KP65lWr",
        "colab_type": "text"
      },
      "source": [
        "Q5. Write a pandas program to create the mean and standard\n",
        "deviation of the data of a given Series?\n",
        "\n",
        "    Sample OutputOriginal Data Series0 1\n",
        "    1 2\n",
        "    2 3\n",
        "    3 4\n",
        "    4 5\n",
        "    5 6\n",
        "    6 7\n",
        "    7 8\n",
        "    8 9\n",
        "    9 5\n",
        "    10 3\n",
        "    dtype- int64\n",
        "    Mean of the said Data Series4.81818181818\n",
        "    Standard deviation of the said Data Series2.52262489555"
      ]
    },
    {
      "cell_type": "code",
      "metadata": {
        "id": "lB33gsVW5lWr",
        "colab_type": "code",
        "colab": {
          "base_uri": "https://localhost:8080/",
          "height": 302
        },
        "outputId": "e2f2bfbe-f150-4405-a666-62238745a173"
      },
      "source": [
        "import pandas as pd\n",
        "s = pd.Series(data = [1,2,3,4,5,6,7,8,9,5,3])\n",
        "print(\"Original Data Series:\")\n",
        "print(s)\n",
        "print(\"Mean of the said Data Series:\")\n",
        "print(s.mean())\n",
        "print(\"Standard deviation of the said Data Series:\")\n",
        "print(s.std())"
      ],
      "execution_count": 6,
      "outputs": [
        {
          "output_type": "stream",
          "text": [
            "Original Data Series:\n",
            "0     1\n",
            "1     2\n",
            "2     3\n",
            "3     4\n",
            "4     5\n",
            "5     6\n",
            "6     7\n",
            "7     8\n",
            "8     9\n",
            "9     5\n",
            "10    3\n",
            "dtype: int64\n",
            "Mean of the said Data Series:\n",
            "4.818181818181818\n",
            "Standard deviation of the said Data Series:\n",
            "2.522624895547565\n"
          ],
          "name": "stdout"
        }
      ]
    },
    {
      "cell_type": "markdown",
      "metadata": {
        "id": "rjiHAf7Y5lWt",
        "colab_type": "text"
      },
      "source": [
        "Q6. Write a pandas program to get powers of an array values\n",
        "element-wise?\n",
        " \n",
        "Note First array elements raised the powers from the second array.\n",
        "\n",
        "    Sample data: {'X ':[78,85,96,80,86], ' Y ':[84,94,89,83,86],'Z':[86,97,96,72,83]}\n",
        "    Expected Output:\n",
        "    X Y Z\n",
        "    0 78 84 86\n",
        "    1 85 94 97\n",
        "    2 96 89 96\n",
        "    3 80 83 72\n",
        "    4 86 86 83"
      ]
    },
    {
      "cell_type": "code",
      "metadata": {
        "id": "CwL7H0575lWu",
        "colab_type": "code",
        "colab": {
          "base_uri": "https://localhost:8080/",
          "height": 118
        },
        "outputId": "90c08245-3457-4cbe-ad96-f7eb89bb81f3"
      },
      "source": [
        "import pandas as pd\n",
        "df = pd.DataFrame({'X':[78,85,96,80,86], 'Y':[84,94,89,83,86],'Z':[86,97,96,72,83]});\n",
        "print(df)"
      ],
      "execution_count": 7,
      "outputs": [
        {
          "output_type": "stream",
          "text": [
            "    X   Y   Z\n",
            "0  78  84  86\n",
            "1  85  94  97\n",
            "2  96  89  96\n",
            "3  80  83  72\n",
            "4  86  86  83\n"
          ],
          "name": "stdout"
        }
      ]
    },
    {
      "cell_type": "markdown",
      "metadata": {
        "id": "fHV98kzM5lWw",
        "colab_type": "text"
      },
      "source": [
        "Q7. Write the pandas program to get the first 3 rows of a given\n",
        "DataFrame?\n",
        "\n",
        "    Sample Python dictionary data and list labelsexam_data = {'name': ['Anastasia', 'Dima', 'Katherine', 'James', 'Emily', 'Michael',\n",
        "    'Matthew', 'Laura', 'Kevin', 'Jonas'],\n",
        "    'score': [12.5, 9, 16.5, np.nan, 9, 20, 14.5, np.nan, 8, 19],\n",
        "    'attempts'- [1, 3, 2, 3, 2, 3, 1, 1, 2, 1],\n",
        "    'qualify'- [ 'yes', 'no', 'yes' , 'no', ' no ', ' yes ', 'yes', 'no', 'no', 'yes' ] }\n",
        "    labels = ['a', 'b', 'c', 'd', 'e', 'f', 'g', 'h', 'i', 'j' ]\n",
        "    Expected OutputFirst three rows of the data frameattempts name qualify score\n",
        "    a 1 Anastasia yes 12.5\n",
        "    b 3 Dima no 9.0\n",
        "    c 2 Katherine yes 16.5"
      ]
    },
    {
      "cell_type": "code",
      "metadata": {
        "id": "edXVw4ds5lWx",
        "colab_type": "code",
        "colab": {
          "base_uri": "https://localhost:8080/",
          "height": 101
        },
        "outputId": "e0e2a2b3-1fa4-4d12-f20d-29cb2e2ef67a"
      },
      "source": [
        "import pandas as pd\n",
        "import numpy as np\n",
        "\n",
        "exam_data  = {'name': ['Anastasia', 'Dima', 'Katherine', 'James', 'Emily', 'Michael', 'Matthew', 'Laura', 'Kevin', 'Jonas'],\n",
        "        'score': [12.5, 9, 16.5, np.nan, 9, 20, 14.5, np.nan, 8, 19],\n",
        "        'attempts': [1, 3, 2, 3, 2, 3, 1, 1, 2, 1],\n",
        "        'qualify': ['yes', 'no', 'yes', 'no', 'no', 'yes', 'yes', 'no', 'no', 'yes']}\n",
        "labels = ['a', 'b', 'c', 'd', 'e', 'f', 'g', 'h', 'i', 'j']\n",
        "\n",
        "df = pd.DataFrame(exam_data , index=labels)\n",
        "print(\"First three rows of the data frame:\")\n",
        "print(df.iloc[:3])"
      ],
      "execution_count": 8,
      "outputs": [
        {
          "output_type": "stream",
          "text": [
            "First three rows of the data frame:\n",
            "        name  score  attempts qualify\n",
            "a  Anastasia   12.5         1     yes\n",
            "b       Dima    9.0         3      no\n",
            "c  Katherine   16.5         2     yes\n"
          ],
          "name": "stdout"
        }
      ]
    },
    {
      "cell_type": "markdown",
      "metadata": {
        "id": "xBgCT-yX5lWz",
        "colab_type": "text"
      },
      "source": [
        "Q8: Write the pandas program to select the specified columns and\n",
        "the rows from a given data frame?\n",
        "\n",
        "    Sample Python dictionary data and list labelsSelect 'name' and 'score' columns in rows 1, 3, 5, 6 from the following data frame.\n",
        "    exam_data = {'name ': [ 'Anastasia', 'Dima', 'Katherine', 'James', 'Emily', 'Michael',\n",
        "    'Matthew', 'Laura', 'Kevin', 'Jonas'],\n",
        "    'score'- [12.5, 9, 16.5, np.nan, 9, 20, 14.5, np.nan, 8, 19],\n",
        "    'attempts'- [1, 3, 2, 3, 2, 3, 1, 1, 2, 1],\n",
        "    'qualify'- ['yes', 'no', 'yes', 'no', 'no', 'yes', 'yes', 'no', 'no', 'yes'] }\n",
        "    labels = ['a ', ' b ', ' c ', ' d ', ' e ', ' f ', ' g ', 'h', 'i', 'j']\n",
        "    Expected OutputSelect specific columns and rowsname score\n",
        "    b Dima 9.0\n",
        "    d James NaN\n",
        "    f Michael 20.0\n",
        "    g Matthew 14.5"
      ]
    },
    {
      "cell_type": "code",
      "metadata": {
        "id": "H0Tr9PXO5lW0",
        "colab_type": "code",
        "colab": {
          "base_uri": "https://localhost:8080/",
          "height": 118
        },
        "outputId": "310946e5-a38c-4a78-f4bd-8bdef0610c5d"
      },
      "source": [
        "import pandas as pd\n",
        "import numpy as np\n",
        "\n",
        "exam_data  = {'name': ['Anastasia', 'Dima', 'Katherine', 'James', 'Emily', 'Michael', 'Matthew', 'Laura', 'Kevin', 'Jonas'],\n",
        "        'score': [12.5, 9, 16.5, np.nan, 9, 20, 14.5, np.nan, 8, 19],\n",
        "        'attempts': [1, 3, 2, 3, 2, 3, 1, 1, 2, 1],\n",
        "        'qualify': ['yes', 'no', 'yes', 'no', 'no', 'yes', 'yes', 'no', 'no', 'yes']}\n",
        "labels = ['a', 'b', 'c', 'd', 'e', 'f', 'g', 'h', 'i', 'j']\n",
        "\n",
        "df = pd.DataFrame(exam_data , index=labels)\n",
        "print(\"Select specific columns and rows:\")\n",
        "print(df.iloc[[1, 3, 5, 6], [1, 3]])"
      ],
      "execution_count": 9,
      "outputs": [
        {
          "output_type": "stream",
          "text": [
            "Select specific columns and rows:\n",
            "   score qualify\n",
            "b    9.0      no\n",
            "d    NaN      no\n",
            "f   20.0     yes\n",
            "g   14.5     yes\n"
          ],
          "name": "stdout"
        }
      ]
    },
    {
      "cell_type": "markdown",
      "metadata": {
        "id": "5KtvdRrm5lW1",
        "colab_type": "text"
      },
      "source": [
        "Q9. Write the pandas program to calculate mean score for each\n",
        "different student in DataFrame?\n",
        "\n",
        "    Sample Python dictionary data and list labelsexam_data = {'name': ['Anastasia', 'Dima', 'Katherine', 'James', 'Emily', 'Michael',\n",
        "    'Matthew', 'Laura', 'Kevin', 'Jonas'],\n",
        "    'score': [12.5, 9, 16.5, np.nan, 9, 20, 14.5, np.nan, 8, 19],\n",
        "    'attempts'- [1, 3, 2, 3, 2, 3, 1, 1, 2, 1],\n",
        "    'qualify'- ['yes', 'no', ' yes ', ' no ', ' no ', ' yes ', ' yes ', ' no ', ' no ', ' yes '] }\n",
        "    labels = ['a', 'b', 'c', 'd', 'e', 'f', 'g', 'h', 'i', 'j']\n",
        "    Expected OutputMean score for each different student in data frame:\n",
        "    13.5625"
      ]
    },
    {
      "cell_type": "code",
      "metadata": {
        "id": "iSlJRZLx5lW2",
        "colab_type": "code",
        "colab": {
          "base_uri": "https://localhost:8080/",
          "height": 67
        },
        "outputId": "f4ca95d0-da17-491d-8c20-f84146630a22"
      },
      "source": [
        "import pandas as pd\n",
        "import numpy as np\n",
        "exam_data  = {'name': ['Anastasia', 'Dima', 'Katherine', 'James', 'Emily', 'Michael', 'Matthew', 'Laura', 'Kevin', 'Jonas'],\n",
        "        'score': [12.5, 9, 16.5, np.nan, 9, 20, 14.5, np.nan, 8, 19],\n",
        "        'attempts': [1, 3, 2, 3, 2, 3, 1, 1, 2, 1],\n",
        "        'qualify': ['yes', 'no', 'yes', 'no', 'no', 'yes', 'yes', 'no', 'no', 'yes']}\n",
        "labels = ['a', 'b', 'c', 'd', 'e', 'f', 'g', 'h', 'i', 'j']\n",
        "\n",
        "df = pd.DataFrame(exam_data , index=labels)\n",
        "print(\"\\nMean score for each different student in data frame:\")\n",
        "print(df['score'].mean())"
      ],
      "execution_count": 10,
      "outputs": [
        {
          "output_type": "stream",
          "text": [
            "\n",
            "Mean score for each different student in data frame:\n",
            "13.5625\n"
          ],
          "name": "stdout"
        }
      ]
    },
    {
      "cell_type": "markdown",
      "metadata": {
        "id": "em8KzQfw5lW4",
        "colab_type": "text"
      },
      "source": [
        "Q10. Write the Pandas program to rename columns of a given\n",
        "DataFrame ?\n",
        "\n",
        "    Sample dataOriginal data frame\n",
        "    col1 col2 col3\n",
        "    0 1 4 7\n",
        "    1 2 5 8\n",
        "    2 3 6 9\n",
        "    New data frame after renaming columns:\n",
        "    Column1 Column2 Column3\n",
        "    0 1 4 7\n",
        "    1 2 5 8\n",
        "    2 3 6 9"
      ]
    },
    {
      "cell_type": "code",
      "metadata": {
        "id": "FmHECvkK5lW5",
        "colab_type": "code",
        "colab": {
          "base_uri": "https://localhost:8080/",
          "height": 185
        },
        "outputId": "def17407-d12d-461e-c4a8-463f8794313b"
      },
      "source": [
        "import pandas as pd\n",
        "d = {'col1': [1, 2, 3], 'col2': [4, 5, 6], 'col3': [7, 8, 9]}\n",
        "df = pd.DataFrame(data=d)\n",
        "print(\"Original DataFrame\")\n",
        "print(df)\n",
        "df.columns = ['Column1', 'Column2', 'Column3']\n",
        "df = df.rename(columns={'col1': 'Column1', 'col2': 'Column2', 'col3': 'Column3'})\n",
        "print(\"New DataFrame after renaming columns:\")\n",
        "print(df)"
      ],
      "execution_count": 11,
      "outputs": [
        {
          "output_type": "stream",
          "text": [
            "Original DataFrame\n",
            "   col1  col2  col3\n",
            "0     1     4     7\n",
            "1     2     5     8\n",
            "2     3     6     9\n",
            "New DataFrame after renaming columns:\n",
            "   Column1  Column2  Column3\n",
            "0        1        4        7\n",
            "1        2        5        8\n",
            "2        3        6        9\n"
          ],
          "name": "stdout"
        }
      ]
    },
    {
      "cell_type": "markdown",
      "metadata": {
        "id": "P-nG0z2T5lW6",
        "colab_type": "text"
      },
      "source": [
        "Q11. Write a pandas program to count city-wise number of people from\n",
        "a given of data set (city, name of the person)?\n",
        "\n",
        "    Sample data-\n",
        "    city Number of people\n",
        "    0 California 4\n",
        "    1 Georgia 2\n",
        "    2 Los Angeles 4"
      ]
    },
    {
      "cell_type": "code",
      "metadata": {
        "id": "4pYf3vw35lW7",
        "colab_type": "code",
        "colab": {
          "base_uri": "https://localhost:8080/",
          "height": 84
        },
        "outputId": "373d1932-5237-4be7-fb71-8d11ee01248a"
      },
      "source": [
        "import pandas as pd\n",
        "df1 = pd.DataFrame({'name': ['Anastasia', 'Dima', 'Katherine', 'James', 'Emily', 'Michael', 'Matthew', 'Laura', 'Kevin', 'Jonas'],\n",
        "'city': ['California', 'Los Angeles', 'California', 'California', 'California', 'Los Angeles', 'Los Angeles', 'Georgia', 'Georgia', 'Los Angeles']})\n",
        "g1 = df1.groupby([\"city\"]).size().reset_index(name='Number of people')\n",
        "print(g1)"
      ],
      "execution_count": 12,
      "outputs": [
        {
          "output_type": "stream",
          "text": [
            "          city  Number of people\n",
            "0   California                 4\n",
            "1      Georgia                 2\n",
            "2  Los Angeles                 4\n"
          ],
          "name": "stdout"
        }
      ]
    },
    {
      "cell_type": "markdown",
      "metadata": {
        "id": "6jI55Ywz5lW8",
        "colab_type": "text"
      },
      "source": [
        "Q12. Write a pandas program to widen output display to see more\n",
        "columns?\n",
        "    \n",
        "    Sample dataOriginal data frame\n",
        "    col1 col2 col3\n",
        "    0 1 4 7\n",
        "    1 4 5 8\n",
        "    2 3 6 9\n",
        "    3 4 7 0\n",
        "    4 5 8 1"
      ]
    },
    {
      "cell_type": "code",
      "metadata": {
        "id": "ZGZ7FEk15lW9",
        "colab_type": "code",
        "colab": {
          "base_uri": "https://localhost:8080/",
          "height": 134
        },
        "outputId": "54738979-41a3-48ed-8029-0513506043b1"
      },
      "source": [
        "import pandas as pd\n",
        "import numpy as np\n",
        "d = {'col1': [1, 4, 3, 4, 5], 'col2': [4, 5, 6, 7, 8], 'col3': [7, 8, 9, 0, 1]}\n",
        "df = pd.DataFrame(data=d)\n",
        "pd.set_option('display.max_rows', 500)\n",
        "pd.set_option('display.max_columns', 500)\n",
        "pd.set_option('display.width', 1000)\n",
        "print(\"Original DataFrame\")\n",
        "print(df)"
      ],
      "execution_count": 13,
      "outputs": [
        {
          "output_type": "stream",
          "text": [
            "Original DataFrame\n",
            "   col1  col2  col3\n",
            "0     1     4     7\n",
            "1     4     5     8\n",
            "2     3     6     9\n",
            "3     4     7     0\n",
            "4     5     8     1\n"
          ],
          "name": "stdout"
        }
      ]
    },
    {
      "cell_type": "markdown",
      "metadata": {
        "id": "egNbjAPk5lW_",
        "colab_type": "text"
      },
      "source": [
        "Q13. Write a pandas program to convert the data frame column type\n",
        "from string to DateTime?\n",
        "    \n",
        "    Sample dataString Date0 3/11/2000\n",
        "    1 3/12/2000\n",
        "    2 3/13/2000\n",
        "    dtype- object\n",
        "    Original DataFrame (string to datetime)-\n",
        "    0\n",
        "    0 2000-03-11\n",
        "    1 2000-03-12\n",
        "    2 2000-03-13"
      ]
    },
    {
      "cell_type": "code",
      "metadata": {
        "id": "1x80rXnR5lW_",
        "colab_type": "code",
        "colab": {
          "base_uri": "https://localhost:8080/",
          "height": 185
        },
        "outputId": "4dcfd7d1-2c30-4930-e23e-fe8df742f91d"
      },
      "source": [
        "import pandas as pd\n",
        "import numpy as np\n",
        "s = pd.Series(['3/11/2000', '3/12/2000', '3/13/2000'])\n",
        "print(\"String Date:\")\n",
        "print(s)\n",
        "r = pd.to_datetime(pd.Series(s))\n",
        "df = pd.DataFrame(r)\n",
        "print(\"Original DataFrame (string to datetime):\")\n",
        "print(df)"
      ],
      "execution_count": 14,
      "outputs": [
        {
          "output_type": "stream",
          "text": [
            "String Date:\n",
            "0    3/11/2000\n",
            "1    3/12/2000\n",
            "2    3/13/2000\n",
            "dtype: object\n",
            "Original DataFrame (string to datetime):\n",
            "           0\n",
            "0 2000-03-11\n",
            "1 2000-03-12\n",
            "2 2000-03-13\n"
          ],
          "name": "stdout"
        }
      ]
    },
    {
      "cell_type": "markdown",
      "metadata": {
        "id": "T-z-gouL5lXB",
        "colab_type": "text"
      },
      "source": [
        "Q14. Write a pandas program to append the data to an empty\n",
        "DataFrame?\n",
        "\n",
        "    Sample dataOriginal DataFrame- After appending some data: col1 col2 0 0 0 1 1 1 2 2 2"
      ]
    },
    {
      "cell_type": "code",
      "metadata": {
        "id": "2v8Q5P6b5lXB",
        "colab_type": "code",
        "colab": {
          "base_uri": "https://localhost:8080/",
          "height": 101
        },
        "outputId": "6be49520-20ff-4898-9551-cbaa9336bc26"
      },
      "source": [
        "import pandas as pd\n",
        "import numpy as np\n",
        "df = pd.DataFrame()\n",
        "data = pd.DataFrame({\"col1\": range(3),\"col2\": range(3)})\n",
        "print(\"After appending some data:\")\n",
        "df = df.append(data)\n",
        "print(df)"
      ],
      "execution_count": 15,
      "outputs": [
        {
          "output_type": "stream",
          "text": [
            "After appending some data:\n",
            "   col1  col2\n",
            "0     0     0\n",
            "1     1     1\n",
            "2     2     2\n"
          ],
          "name": "stdout"
        }
      ]
    },
    {
      "cell_type": "markdown",
      "metadata": {
        "id": "8cXdHWqK5lXD",
        "colab_type": "text"
      },
      "source": [
        "Q15. Write a pandas program to count the number of columns of a\n",
        "DataFrame?\n",
        "\n",
        "    Sample OutputOriginal DataFrame\n",
        "    col1 col2 col3\n",
        "    0 1 4 7\n",
        "    1 2 5 8\n",
        "    2 3 6 12\n",
        "    3 4 9 1\n",
        "    4 7 5 11\n",
        "    Number of columns- 3"
      ]
    },
    {
      "cell_type": "code",
      "metadata": {
        "id": "Op8xZgwl5lXD",
        "colab_type": "code",
        "colab": {
          "base_uri": "https://localhost:8080/",
          "height": 185
        },
        "outputId": "f9d4afee-a16f-492c-b8d4-3f5b3f662481"
      },
      "source": [
        "import pandas as pd\n",
        "d = {'col1': [1, 2, 3, 4, 7], 'col2': [4, 5, 6, 9, 5], 'col3': [7, 8, 12, 1, 11]}\n",
        "df = pd.DataFrame(data=d)\n",
        "print(\"Original DataFrame\")\n",
        "print(df)\n",
        "print(\"\\nNumber of columns:\")\n",
        "print(len(df.columns))"
      ],
      "execution_count": 16,
      "outputs": [
        {
          "output_type": "stream",
          "text": [
            "Original DataFrame\n",
            "   col1  col2  col3\n",
            "0     1     4     7\n",
            "1     2     5     8\n",
            "2     3     6    12\n",
            "3     4     9     1\n",
            "4     7     5    11\n",
            "\n",
            "Number of columns:\n",
            "3\n"
          ],
          "name": "stdout"
        }
      ]
    },
    {
      "cell_type": "markdown",
      "metadata": {
        "id": "Kzp6soBK5lXF",
        "colab_type": "text"
      },
      "source": [
        "Q16. Write a Pandas program to remove the last n rows of a given\n",
        "DataFrame ?\n",
        "\n",
        "    Sample Output:\n",
        "    Original DataFrame\n",
        "    col1 col2 col3\n",
        "    0 1 4 7\n",
        "    1 2 5 5\n",
        "    2 3 6 8\n",
        "    3 4 9 12\n",
        "    4 7 5 1\n",
        "    5 11 0 11\n",
        "    After removing last 3 rows of the said DataFramecol1 col2 col3\n",
        "    0 1 4 7\n",
        "    1 2 5 5\n",
        "    2 3 6 8\n",
        "    \n",
        "     Link for Datasets\n",
        "     (https://drive.google.com/drive/folders/105ftuIwN9kqyPNEEm3E6IM7LqywjyvJa?usp=sharing)"
      ]
    },
    {
      "cell_type": "code",
      "metadata": {
        "id": "yKDmKrzu5lXF",
        "colab_type": "code",
        "colab": {
          "base_uri": "https://localhost:8080/",
          "height": 252
        },
        "outputId": "1e428c5e-c25a-4128-e15c-bc510215021e"
      },
      "source": [
        "import pandas as pd\n",
        "d = {'col1': [1, 2, 3, 4, 7, 11], 'col2': [4, 5, 6, 9, 5, 0], 'col3': [7, 5, 8, 12, 1,11]}\n",
        "df = pd.DataFrame(data=d)\n",
        "print(\"Original DataFrame\")\n",
        "print(df)\n",
        "print(\"\\nAfter removing last 3 rows of the said DataFrame:\")\n",
        "df1 = df.iloc[:3]\n",
        "print(df1)\n"
      ],
      "execution_count": 17,
      "outputs": [
        {
          "output_type": "stream",
          "text": [
            "Original DataFrame\n",
            "   col1  col2  col3\n",
            "0     1     4     7\n",
            "1     2     5     5\n",
            "2     3     6     8\n",
            "3     4     9    12\n",
            "4     7     5     1\n",
            "5    11     0    11\n",
            "\n",
            "After removing last 3 rows of the said DataFrame:\n",
            "   col1  col2  col3\n",
            "0     1     4     7\n",
            "1     2     5     5\n",
            "2     3     6     8\n"
          ],
          "name": "stdout"
        }
      ]
    },
    {
      "cell_type": "markdown",
      "metadata": {
        "id": "zuxhvK5V5lXH",
        "colab_type": "text"
      },
      "source": [
        "Q17. Write a Pandas program to import excel data (coalpublic2013.xlsx\n",
        ") into a Pandas data frame."
      ]
    },
    {
      "cell_type": "code",
      "metadata": {
        "id": "BkJHLOAU5lXI",
        "colab_type": "code",
        "colab": {
          "base_uri": "https://localhost:8080/",
          "height": 195
        },
        "outputId": "06aae2a8-bbc9-4799-e0d3-8b98d08b2308"
      },
      "source": [
        "import pandas as pd\n",
        "import numpy as np\n",
        "df = pd.read_excel('coalpublic2013.xlsx')\n",
        "df.head()"
      ],
      "execution_count": 19,
      "outputs": [
        {
          "output_type": "execute_result",
          "data": {
            "text/html": [
              "<div>\n",
              "<style scoped>\n",
              "    .dataframe tbody tr th:only-of-type {\n",
              "        vertical-align: middle;\n",
              "    }\n",
              "\n",
              "    .dataframe tbody tr th {\n",
              "        vertical-align: top;\n",
              "    }\n",
              "\n",
              "    .dataframe thead th {\n",
              "        text-align: right;\n",
              "    }\n",
              "</style>\n",
              "<table border=\"1\" class=\"dataframe\">\n",
              "  <thead>\n",
              "    <tr style=\"text-align: right;\">\n",
              "      <th></th>\n",
              "      <th>Year</th>\n",
              "      <th>MSHA ID</th>\n",
              "      <th>Mine_Name</th>\n",
              "      <th>Production</th>\n",
              "      <th>Labor_Hours</th>\n",
              "    </tr>\n",
              "  </thead>\n",
              "  <tbody>\n",
              "    <tr>\n",
              "      <th>0</th>\n",
              "      <td>2013</td>\n",
              "      <td>103381</td>\n",
              "      <td>Tacoa Highwall Miner</td>\n",
              "      <td>56004</td>\n",
              "      <td>22392</td>\n",
              "    </tr>\n",
              "    <tr>\n",
              "      <th>1</th>\n",
              "      <td>2013</td>\n",
              "      <td>103404</td>\n",
              "      <td>Reid School Mine</td>\n",
              "      <td>28807</td>\n",
              "      <td>28447</td>\n",
              "    </tr>\n",
              "    <tr>\n",
              "      <th>2</th>\n",
              "      <td>2013</td>\n",
              "      <td>100759</td>\n",
              "      <td>North River #1 Underground Min</td>\n",
              "      <td>1440115</td>\n",
              "      <td>474784</td>\n",
              "    </tr>\n",
              "    <tr>\n",
              "      <th>3</th>\n",
              "      <td>2013</td>\n",
              "      <td>103246</td>\n",
              "      <td>Bear Creek</td>\n",
              "      <td>87587</td>\n",
              "      <td>29193</td>\n",
              "    </tr>\n",
              "    <tr>\n",
              "      <th>4</th>\n",
              "      <td>2013</td>\n",
              "      <td>103451</td>\n",
              "      <td>Knight Mine</td>\n",
              "      <td>147499</td>\n",
              "      <td>46393</td>\n",
              "    </tr>\n",
              "  </tbody>\n",
              "</table>\n",
              "</div>"
            ],
            "text/plain": [
              "   Year  MSHA ID                       Mine_Name  Production  Labor_Hours\n",
              "0  2013   103381            Tacoa Highwall Miner       56004        22392\n",
              "1  2013   103404                Reid School Mine       28807        28447\n",
              "2  2013   100759  North River #1 Underground Min     1440115       474784\n",
              "3  2013   103246                      Bear Creek       87587        29193\n",
              "4  2013   103451                     Knight Mine      147499        46393"
            ]
          },
          "metadata": {
            "tags": []
          },
          "execution_count": 19
        }
      ]
    },
    {
      "cell_type": "markdown",
      "metadata": {
        "id": "fZBQfAlC5lXK",
        "colab_type": "text"
      },
      "source": [
        "Q18. Write a Pandas program to import excel data (coalpublic2013.xlsx\n",
        ") into a data frame and find details where \"Mine Name\" starts with\n",
        "\"P.\n"
      ]
    },
    {
      "cell_type": "code",
      "metadata": {
        "id": "4ECI5Cwi5lXK",
        "colab_type": "code",
        "colab": {
          "base_uri": "https://localhost:8080/",
          "height": 166
        },
        "outputId": "f1d2e192-9949-48d2-9604-589dff9a8980"
      },
      "source": [
        "import pandas as pd\n",
        "import numpy as np\n",
        "df = pd.read_excel('coalpublic2013.xlsx')    \n",
        "df[df[\"Mine_Name\"].map(lambda x: x.startswith('P'))].head()"
      ],
      "execution_count": 20,
      "outputs": [
        {
          "output_type": "execute_result",
          "data": {
            "text/html": [
              "<div>\n",
              "<style scoped>\n",
              "    .dataframe tbody tr th:only-of-type {\n",
              "        vertical-align: middle;\n",
              "    }\n",
              "\n",
              "    .dataframe tbody tr th {\n",
              "        vertical-align: top;\n",
              "    }\n",
              "\n",
              "    .dataframe thead th {\n",
              "        text-align: right;\n",
              "    }\n",
              "</style>\n",
              "<table border=\"1\" class=\"dataframe\">\n",
              "  <thead>\n",
              "    <tr style=\"text-align: right;\">\n",
              "      <th></th>\n",
              "      <th>Year</th>\n",
              "      <th>MSHA ID</th>\n",
              "      <th>Mine_Name</th>\n",
              "      <th>Production</th>\n",
              "      <th>Labor_Hours</th>\n",
              "    </tr>\n",
              "  </thead>\n",
              "  <tbody>\n",
              "    <tr>\n",
              "      <th>13</th>\n",
              "      <td>2013</td>\n",
              "      <td>103332</td>\n",
              "      <td>Powhatan Mine</td>\n",
              "      <td>140521</td>\n",
              "      <td>61394</td>\n",
              "    </tr>\n",
              "    <tr>\n",
              "      <th>18</th>\n",
              "      <td>2013</td>\n",
              "      <td>102976</td>\n",
              "      <td>Piney Woods Preparation Plant</td>\n",
              "      <td>0</td>\n",
              "      <td>14828</td>\n",
              "    </tr>\n",
              "    <tr>\n",
              "      <th>19</th>\n",
              "      <td>2013</td>\n",
              "      <td>102976</td>\n",
              "      <td>Piney Woods Preparation Plant</td>\n",
              "      <td>0</td>\n",
              "      <td>23193</td>\n",
              "    </tr>\n",
              "    <tr>\n",
              "      <th>46</th>\n",
              "      <td>2013</td>\n",
              "      <td>103321</td>\n",
              "      <td>Poplar Springs</td>\n",
              "      <td>189370</td>\n",
              "      <td>76366</td>\n",
              "    </tr>\n",
              "  </tbody>\n",
              "</table>\n",
              "</div>"
            ],
            "text/plain": [
              "    Year  MSHA ID                      Mine_Name  Production  Labor_Hours\n",
              "13  2013   103332                  Powhatan Mine      140521        61394\n",
              "18  2013   102976  Piney Woods Preparation Plant           0        14828\n",
              "19  2013   102976  Piney Woods Preparation Plant           0        23193\n",
              "46  2013   103321                 Poplar Springs      189370        76366"
            ]
          },
          "metadata": {
            "tags": []
          },
          "execution_count": 20
        }
      ]
    },
    {
      "cell_type": "markdown",
      "metadata": {
        "id": "m2DzYV395lXL",
        "colab_type": "text"
      },
      "source": [
        "Q19. Write a Pandas program to import excel data (employee.xlsx )\n",
        "into a Pandas dataframe and find the list of employees where\n",
        "hire_date> 01-01-07.\n"
      ]
    },
    {
      "cell_type": "code",
      "metadata": {
        "id": "zTniTm9Y5lXM",
        "colab_type": "code",
        "colab": {
          "base_uri": "https://localhost:8080/",
          "height": 166
        },
        "outputId": "0f21f669-657b-4af4-daa0-b836ad297973"
      },
      "source": [
        "import pandas as pd\n",
        "import numpy as np\n",
        "df = pd.read_excel('employee.xlsx')\n",
        "df[df['hire_date'] >='20070101']"
      ],
      "execution_count": 21,
      "outputs": [
        {
          "output_type": "execute_result",
          "data": {
            "text/html": [
              "<div>\n",
              "<style scoped>\n",
              "    .dataframe tbody tr th:only-of-type {\n",
              "        vertical-align: middle;\n",
              "    }\n",
              "\n",
              "    .dataframe tbody tr th {\n",
              "        vertical-align: top;\n",
              "    }\n",
              "\n",
              "    .dataframe thead th {\n",
              "        text-align: right;\n",
              "    }\n",
              "</style>\n",
              "<table border=\"1\" class=\"dataframe\">\n",
              "  <thead>\n",
              "    <tr style=\"text-align: right;\">\n",
              "      <th></th>\n",
              "      <th>emp_id</th>\n",
              "      <th>first_name</th>\n",
              "      <th>last_name</th>\n",
              "      <th>hire_date</th>\n",
              "    </tr>\n",
              "  </thead>\n",
              "  <tbody>\n",
              "    <tr>\n",
              "      <th>4</th>\n",
              "      <td>104</td>\n",
              "      <td>Bruce</td>\n",
              "      <td>Ernst</td>\n",
              "      <td>2007-05-21</td>\n",
              "    </tr>\n",
              "    <tr>\n",
              "      <th>7</th>\n",
              "      <td>107</td>\n",
              "      <td>Diana</td>\n",
              "      <td>Lorentz</td>\n",
              "      <td>2007-02-07</td>\n",
              "    </tr>\n",
              "    <tr>\n",
              "      <th>13</th>\n",
              "      <td>113</td>\n",
              "      <td>Luis</td>\n",
              "      <td>Popp</td>\n",
              "      <td>2007-12-07</td>\n",
              "    </tr>\n",
              "    <tr>\n",
              "      <th>19</th>\n",
              "      <td>119</td>\n",
              "      <td>Karen</td>\n",
              "      <td>Colmenares</td>\n",
              "      <td>2007-08-10</td>\n",
              "    </tr>\n",
              "  </tbody>\n",
              "</table>\n",
              "</div>"
            ],
            "text/plain": [
              "    emp_id first_name   last_name  hire_date\n",
              "4      104      Bruce       Ernst 2007-05-21\n",
              "7      107      Diana     Lorentz 2007-02-07\n",
              "13     113       Luis        Popp 2007-12-07\n",
              "19     119      Karen  Colmenares 2007-08-10"
            ]
          },
          "metadata": {
            "tags": []
          },
          "execution_count": 21
        }
      ]
    },
    {
      "cell_type": "markdown",
      "metadata": {
        "id": "9i0hbOaa5lXN",
        "colab_type": "text"
      },
      "source": [
        "Q20. Write a Pandas program to import excel data (employee.xlsx )\n",
        "into a Pandas dataframe and find a list of the employees of a specified\n",
        "year"
      ]
    },
    {
      "cell_type": "code",
      "metadata": {
        "id": "UCIwJuJE5lXO",
        "colab_type": "code",
        "colab": {
          "base_uri": "https://localhost:8080/",
          "height": 195
        },
        "outputId": "cfc75bc5-a203-4ac6-f729-4ca91b036c28"
      },
      "source": [
        "import pandas as pd\n",
        "import numpy as np\n",
        "df = pd.read_excel('employee.xlsx')\n",
        "df2 = df.set_index(['hire_date'])\n",
        "result = df2[\"2007\"]\n",
        "result"
      ],
      "execution_count": 22,
      "outputs": [
        {
          "output_type": "execute_result",
          "data": {
            "text/html": [
              "<div>\n",
              "<style scoped>\n",
              "    .dataframe tbody tr th:only-of-type {\n",
              "        vertical-align: middle;\n",
              "    }\n",
              "\n",
              "    .dataframe tbody tr th {\n",
              "        vertical-align: top;\n",
              "    }\n",
              "\n",
              "    .dataframe thead th {\n",
              "        text-align: right;\n",
              "    }\n",
              "</style>\n",
              "<table border=\"1\" class=\"dataframe\">\n",
              "  <thead>\n",
              "    <tr style=\"text-align: right;\">\n",
              "      <th></th>\n",
              "      <th>emp_id</th>\n",
              "      <th>first_name</th>\n",
              "      <th>last_name</th>\n",
              "    </tr>\n",
              "    <tr>\n",
              "      <th>hire_date</th>\n",
              "      <th></th>\n",
              "      <th></th>\n",
              "      <th></th>\n",
              "    </tr>\n",
              "  </thead>\n",
              "  <tbody>\n",
              "    <tr>\n",
              "      <th>2007-05-21</th>\n",
              "      <td>104</td>\n",
              "      <td>Bruce</td>\n",
              "      <td>Ernst</td>\n",
              "    </tr>\n",
              "    <tr>\n",
              "      <th>2007-02-07</th>\n",
              "      <td>107</td>\n",
              "      <td>Diana</td>\n",
              "      <td>Lorentz</td>\n",
              "    </tr>\n",
              "    <tr>\n",
              "      <th>2007-12-07</th>\n",
              "      <td>113</td>\n",
              "      <td>Luis</td>\n",
              "      <td>Popp</td>\n",
              "    </tr>\n",
              "    <tr>\n",
              "      <th>2007-08-10</th>\n",
              "      <td>119</td>\n",
              "      <td>Karen</td>\n",
              "      <td>Colmenares</td>\n",
              "    </tr>\n",
              "  </tbody>\n",
              "</table>\n",
              "</div>"
            ],
            "text/plain": [
              "            emp_id first_name   last_name\n",
              "hire_date                                \n",
              "2007-05-21     104      Bruce       Ernst\n",
              "2007-02-07     107      Diana     Lorentz\n",
              "2007-12-07     113       Luis        Popp\n",
              "2007-08-10     119      Karen  Colmenares"
            ]
          },
          "metadata": {
            "tags": []
          },
          "execution_count": 22
        }
      ]
    },
    {
      "cell_type": "markdown",
      "metadata": {
        "id": "AqT4Z_Jw5lXQ",
        "colab_type": "text"
      },
      "source": [
        "## Great Job!"
      ]
    }
  ]
}
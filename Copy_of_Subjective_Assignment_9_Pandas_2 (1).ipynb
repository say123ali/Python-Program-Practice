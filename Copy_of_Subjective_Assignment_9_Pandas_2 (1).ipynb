{
  "nbformat": 4,
  "nbformat_minor": 0,
  "metadata": {
    "kernelspec": {
      "display_name": "Python 3",
      "language": "python",
      "name": "python3"
    },
    "language_info": {
      "codemirror_mode": {
        "name": "ipython",
        "version": 3
      },
      "file_extension": ".py",
      "mimetype": "text/x-python",
      "name": "python",
      "nbconvert_exporter": "python",
      "pygments_lexer": "ipython3",
      "version": "3.7.4"
    },
    "colab": {
      "name": "Copy_of_Subjective_Assignment_9_Pandas_2.ipynb",
      "provenance": [],
      "collapsed_sections": [],
      "toc_visible": true
    }
  },
  "cells": [
    {
      "cell_type": "markdown",
      "metadata": {
        "id": "GAJ-dkVJLJSn",
        "colab_type": "text"
      },
      "source": [
        "# Assignment"
      ]
    },
    {
      "cell_type": "markdown",
      "metadata": {
        "id": "zLIubuiLLJSo",
        "colab_type": "text"
      },
      "source": [
        "Link for Datasets\n",
        "(https://drive.google.com/drive/folders/105ftuIwN9kqyPNEEm3E6IM7LqywjyvJa?usp=sharing)"
      ]
    },
    {
      "cell_type": "markdown",
      "metadata": {
        "id": "quoMI7YoLJSp",
        "colab_type": "text"
      },
      "source": [
        "Q21. Write a pandas program to import three datasheets from a given\n",
        "excel data (coalpublic2013.xlsx ) in to a single dataframe.\n",
        " \n",
        "Note: Structure of three datasheets are same."
      ]
    },
    {
      "cell_type": "code",
      "metadata": {
        "id": "sFdqYi-3LJSq",
        "colab_type": "code",
        "outputId": "b5031ffa-23ca-4e6c-8808-ce57fbca06f2",
        "colab": {
          "base_uri": "https://localhost:8080/",
          "height": 874
        }
      },
      "source": [
        "import pandas as pd\n",
        "import numpy as np\n",
        "df1 = pd.read_excel('coalpublic2013.xlsx',sheet_name=0)\n",
        "\n",
        "\n",
        "\n",
        "print(df1)"
      ],
      "execution_count": 0,
      "outputs": [
        {
          "output_type": "stream",
          "text": [
            "    Year  MSHA ID                       Mine_Name  Production  Labor_Hours\n",
            "0   2013   103381            Tacoa Highwall Miner       56004        22392\n",
            "1   2013   103404                Reid School Mine       28807        28447\n",
            "2   2013   100759  North River #1 Underground Min     1440115       474784\n",
            "3   2013   103246                      Bear Creek       87587        29193\n",
            "4   2013   103451                     Knight Mine      147499        46393\n",
            "5   2013   103433              Crane Central Mine       69339        47195\n",
            "6   2013   100329                    Concord Mine           0       144002\n",
            "7   2013   100851                  Oak Grove Mine     2269014      1001809\n",
            "8   2013   102901                Shoal Creek Mine           0        12396\n",
            "9   2013   102901                Shoal Creek Mine     1453024      1237415\n",
            "10  2013   103180             Sloan Mountain Mine      327780       196963\n",
            "11  2013   103182                        Fishtrap      175058        87314\n",
            "12  2013   103285                     Narley Mine      154861        90584\n",
            "13  2013   103332                   Powhatan Mine      140521        61394\n",
            "14  2013   103375                    Johnson Mine         580         1900\n",
            "15  2013   103419               Maxine-Pratt Mine      125824       107469\n",
            "16  2013   103432                   Skelton Creek        8252          220\n",
            "17  2013   103437         Black Warrior Mine No 1      145924        70926\n",
            "18  2013   102976   Piney Woods Preparation Plant           0        14828\n",
            "19  2013   102976   Piney Woods Preparation Plant           0        23193\n",
            "20  2013   103380                          Calera           0        12621\n",
            "21  2013   103380                          Calera           0         1402\n",
            "22  2013   103422                 Clark No 1 Mine      122727       140250\n",
            "23  2013   103467             Helena Surface Mine       59664        30539\n",
            "24  2013   101247                       No 4 Mine     2622528      1551141\n",
            "25  2013   101401                       No 7 Mine     5405412      2464719\n",
            "26  2013   103172  Searles Mine No. 2, 3, 4, 5, 6      258078       119542\n",
            "27  2013   103179             Fleetwood Mine No 1       75937        63745\n",
            "28  2013   103303                    Shannon Mine      317491       164388\n",
            "29  2013   103323                   Deerlick Mine      133452        46381\n",
            "30  2013   103364           Brc Alabama No. 7 Llc           0        14324\n",
            "31  2013   103436                Swann's Crossing      137511        77190\n",
            "32  2013   100347                    Choctaw Mine      537429       215295\n",
            "33  2013   101362                 Manchester Mine      219457       116914\n",
            "34  2013   102996                  Jap Creek Mine      375715       164093\n",
            "35  2013   103155              Corinth Prep Plant           0        27996\n",
            "36  2013   103155              Corinth Prep Plant           0        51994\n",
            "37  2013   103195     Mccollum/Sparks Branch Mine       71910        17411\n",
            "38  2013   103342             Reese's Branch Mine      263888       115123\n",
            "39  2013   103370             Cresent Valley Mine        2860          621\n",
            "40  2013   103372                 Cane Creek Mine       66258        32401\n",
            "41  2013   103376                      Town Creek      299167       176499\n",
            "42  2013   103389                Carbon Hill Mine       76241        84966\n",
            "43  2013   103410                Coal Valley Mine      407841       158591\n",
            "44  2013   103423                Dutton Hill Mine       37275         9162\n",
            "45  2013  1519322                         Ghm #25       25054         3108\n",
            "46  2013   103321                  Poplar Springs      189370        76366\n",
            "47  2013   103358                       Old Union      284563       161805\n",
            "48  2013  5000030                        Usibelli     1631584       286079\n",
            "49  2013   201195                    Kayenta Mine     7602722      1015333\n"
          ],
          "name": "stdout"
        }
      ]
    },
    {
      "cell_type": "markdown",
      "metadata": {
        "id": "tER7XP7OLJSt",
        "colab_type": "text"
      },
      "source": [
        "Q 22. Write a pandas program to import three datasheets from a given\n",
        "excel data (employee.xlsx ) into a single data frame and export the\n",
        "result into new Excel file.\n",
        " \n",
        "Note: Structure of three datasheets are same."
      ]
    },
    {
      "cell_type": "code",
      "metadata": {
        "id": "6yHIgWY-LJSt",
        "colab_type": "code",
        "outputId": "51e303a7-6549-445b-f601-d0f37fa93767",
        "colab": {
          "base_uri": "https://localhost:8080/",
          "height": 840
        }
      },
      "source": [
        "import pandas as pd\n",
        "import numpy as np\n",
        "df1 = pd.read_excel('employee.xlsx',sheet_name=0)\n",
        "df2 = pd.read_excel('employee.xlsx',sheet_name=1)\n",
        "df3 = pd.read_excel('employee.xlsx',sheet_name=2)\n",
        "df = pd.concat([df1, df2, df3])\n",
        "print(df)"
      ],
      "execution_count": 0,
      "outputs": [
        {
          "output_type": "stream",
          "text": [
            "    emp_id   first_name    last_name  hire_date\n",
            "0      100       Steven         King 2003-06-17\n",
            "1      101        Neena      Kochhar 2005-09-21\n",
            "2      102          Lex      De Haan 2001-01-13\n",
            "3      103    Alexander       Hunold 2006-01-03\n",
            "4      104        Bruce        Ernst 2007-05-21\n",
            "5      105        David       Austin 2005-06-25\n",
            "6      106        Valli    Pataballa 2006-02-05\n",
            "7      107        Diana      Lorentz 2007-02-07\n",
            "8      108        Nancy    Greenberg 2002-08-17\n",
            "9      109       Daniel       Faviet 2002-08-16\n",
            "10     110         John         Chen 2005-09-28\n",
            "11     111       Ismael      Sciarra 2005-09-30\n",
            "12     112  Jose Manuel        Urman 2006-03-07\n",
            "13     113         Luis         Popp 2007-12-07\n",
            "14     114          Den     Raphaely 2002-12-07\n",
            "15     115    Alexander         Khoo 2003-05-18\n",
            "16     116       Shelli        Baida 2005-12-24\n",
            "17     117        Sigal       Tobias 2005-07-24\n",
            "18     118          Guy       Himuro 2006-11-15\n",
            "19     119        Karen   Colmenares 2007-08-10\n",
            "0      120      Matthew        Weiss 2004-07-18\n",
            "1      121         Adam        Fripp 2005-04-10\n",
            "2      122        Payam     Kaufling 2003-05-01\n",
            "3      123       Shanta      Vollman 2005-10-10\n",
            "4      124        Kevin      Mourgos 2007-11-16\n",
            "5      125        Julia        Nayer 2005-07-16\n",
            "6      126        Irene  Mikkilineni 2006-09-28\n",
            "7      127        James       Landry 2007-01-14\n",
            "8      128       Steven       Markle 2008-03-08\n",
            "9      129        Laura       Bissot 2005-08-20\n",
            "10     130        Mozhe     Atkinson 2005-10-30\n",
            "11     131        James       Marlow 2005-02-16\n",
            "12     132           TJ        Olson 2007-04-10\n",
            "13     133        Jason       Mallin 2004-06-14\n",
            "14     134      Michael       Rogers 2006-08-26\n",
            "15     135           Ki          Gee 2007-12-12\n",
            "16     136        Hazel   Philtanker 2008-02-06\n",
            "17     137       Renske       Ladwig 2003-07-14\n",
            "18     138      Stephen       Stiles 2005-10-26\n",
            "0      141       Trenna         Rajs 2003-10-17\n",
            "1      142       Curtis       Davies 2005-01-29\n",
            "2      143      Randall        Matos 2006-03-15\n",
            "3      144        Peter       Vargas 2006-07-09\n",
            "4      145         John      Russell 2004-10-01\n",
            "5      146        Karen     Partners 2005-01-05\n",
            "6      147      Alberto    Errazuriz 2005-03-10\n",
            "7      148       Gerald    Cambrault 2007-10-15\n",
            "8      149        Eleni      Zlotkey 2008-01-29\n"
          ],
          "name": "stdout"
        }
      ]
    },
    {
      "cell_type": "markdown",
      "metadata": {
        "id": "L0qw-zQCLJSv",
        "colab_type": "text"
      },
      "source": [
        "Q23. Write a pandas program to create the Pivot table with multiple\n",
        "indexes from the data set of the titanic.csv."
      ]
    },
    {
      "cell_type": "code",
      "metadata": {
        "id": "l_mmIKUZLJSw",
        "colab_type": "code",
        "outputId": "10d13829-d2a6-418f-bd36-cbbc689a32a6",
        "colab": {
          "base_uri": "https://localhost:8080/",
          "height": 269
        }
      },
      "source": [
        "import pandas as pd\n",
        "import numpy as np\n",
        "df = pd.read_csv('titanic.csv')\n",
        "result = pd.pivot_table(df, index = [\"sex\",\"age\"], aggfunc=np.sum)\n",
        "print(result)"
      ],
      "execution_count": 0,
      "outputs": [
        {
          "output_type": "stream",
          "text": [
            "              Unnamed: 15  adult_male  alone  ...  pclass  sibsp  survived\n",
            "sex    age                                    ...                         \n",
            "female 0.75           0.0         0.0    0.0  ...       6      4         2\n",
            "       1.00           0.0         0.0    0.0  ...       6      1         2\n",
            "       2.00           0.0         0.0    0.0  ...      15      9         2\n",
            "       3.00           0.0         0.0    0.0  ...       5      4         1\n",
            "       4.00           0.0         0.0    0.0  ...      13      4         5\n",
            "...                   ...         ...    ...  ...     ...    ...       ...\n",
            "male   70.00          0.0         2.0    1.0  ...       3      1         0\n",
            "       70.50          0.0         1.0    1.0  ...       3      0         0\n",
            "       71.00          0.0         2.0    2.0  ...       2      0         0\n",
            "       74.00          0.0         1.0    1.0  ...       3      0         0\n",
            "       80.00          0.0         1.0    1.0  ...       1      0         1\n",
            "\n",
            "[145 rows x 8 columns]\n"
          ],
          "name": "stdout"
        }
      ]
    },
    {
      "cell_type": "markdown",
      "metadata": {
        "id": "oUiDJrQ2LJSz",
        "colab_type": "text"
      },
      "source": [
        "Q24. Write a Pandas program to create the Pivot table and find survival\n",
        "rate by gender?"
      ]
    },
    {
      "cell_type": "code",
      "metadata": {
        "id": "zKvHr6nqLJS0",
        "colab_type": "code",
        "outputId": "f89b6133-e987-4c94-8184-b2d1181705b0",
        "colab": {
          "base_uri": "https://localhost:8080/",
          "height": 118
        }
      },
      "source": [
        "import pandas as pd\n",
        "import numpy as np\n",
        "df = pd.read_csv('titanic.csv')\n",
        "age = pd.cut(df['age'], [0, 20, 55])\n",
        "result = df.pivot_table('survived', index=['sex', age], columns='class')\n",
        "print(result)"
      ],
      "execution_count": 0,
      "outputs": [
        {
          "output_type": "stream",
          "text": [
            "class               First    Second     Third\n",
            "sex    age                                   \n",
            "female (0, 20]   0.928571  1.000000  0.510638\n",
            "       (20, 55]  0.968750  0.912281  0.407407\n",
            "male   (0, 20]   0.571429  0.526316  0.197368\n",
            "       (20, 55]  0.440000  0.054054  0.134503\n"
          ],
          "name": "stdout"
        }
      ]
    },
    {
      "cell_type": "markdown",
      "metadata": {
        "id": "AqRU8ubKLJS2",
        "colab_type": "text"
      },
      "source": [
        "Q25. Write a pandas program to make partition each of the passengers\n",
        "into 4 categories based on their age.\n",
        " \n",
        "Note: Age categories- (0, 10), (10, 30), (30, 60), (60, 80)"
      ]
    },
    {
      "cell_type": "code",
      "metadata": {
        "id": "q572hciYLJS2",
        "colab_type": "code",
        "outputId": "c72dcb17-5413-429b-a273-21c6e30974be",
        "colab": {
          "base_uri": "https://localhost:8080/",
          "height": 235
        }
      },
      "source": [
        "import pandas as pd\n",
        "import numpy as np\n",
        "df = pd.read_csv('titanic.csv')\n",
        "result = pd.cut(df['age'], [0, 10, 30, 60, 80])\n",
        "print(result)"
      ],
      "execution_count": 0,
      "outputs": [
        {
          "output_type": "stream",
          "text": [
            "0      (10.0, 30.0]\n",
            "1      (30.0, 60.0]\n",
            "2      (10.0, 30.0]\n",
            "3      (30.0, 60.0]\n",
            "4      (30.0, 60.0]\n",
            "           ...     \n",
            "886    (10.0, 30.0]\n",
            "887    (10.0, 30.0]\n",
            "888             NaN\n",
            "889    (10.0, 30.0]\n",
            "890    (30.0, 60.0]\n",
            "Name: age, Length: 891, dtype: category\n",
            "Categories (4, interval[int64]): [(0, 10] < (10, 30] < (30, 60] < (60, 80]]\n"
          ],
          "name": "stdout"
        }
      ]
    },
    {
      "cell_type": "markdown",
      "metadata": {
        "id": "bX43UpB8LJS4",
        "colab_type": "text"
      },
      "source": [
        "Q26. Write a pandas program to create the Pivot table and find survival\n",
        "rate by the gender, age of the different categories of various\n",
        "classes."
      ]
    },
    {
      "cell_type": "code",
      "metadata": {
        "id": "TP9DWZ1TLJS5",
        "colab_type": "code",
        "outputId": "d2874e90-5030-4ff7-95d0-409dd88d45b1",
        "colab": {
          "base_uri": "https://localhost:8080/",
          "height": 118
        }
      },
      "source": [
        "import pandas as pd\n",
        "import numpy as np\n",
        "df = pd.read_csv('titanic.csv')\n",
        "age = pd.cut(df['age'], [0, 20, 55])\n",
        "result = df.pivot_table('survived', index=['sex', age], columns='class')\n",
        "print(result)"
      ],
      "execution_count": 0,
      "outputs": [
        {
          "output_type": "stream",
          "text": [
            "class               First    Second     Third\n",
            "sex    age                                   \n",
            "female (0, 20]   0.928571  1.000000  0.510638\n",
            "       (20, 55]  0.968750  0.912281  0.407407\n",
            "male   (0, 20]   0.571429  0.526316  0.197368\n",
            "       (20, 55]  0.440000  0.054054  0.134503\n"
          ],
          "name": "stdout"
        }
      ]
    },
    {
      "cell_type": "markdown",
      "metadata": {
        "id": "bry0CaohLJS7",
        "colab_type": "text"
      },
      "source": [
        "Q27. Write a pandas program to create the Pivot table and calculate\n",
        "number of women and men were in a particular cabin class.\n"
      ]
    },
    {
      "cell_type": "code",
      "metadata": {
        "id": "gEv40RW5LJS8",
        "colab_type": "code",
        "outputId": "61f2572f-5a84-4402-e05b-1c228c4f5edf",
        "colab": {
          "base_uri": "https://localhost:8080/",
          "height": 134
        }
      },
      "source": [
        "import pandas as pd\n",
        "import numpy as np\n",
        "df = pd.read_csv('titanic.csv')\n",
        "result = df.pivot_table(index=['sex'], columns=['pclass'], aggfunc='count')\n",
        "print(result)"
      ],
      "execution_count": 0,
      "outputs": [
        {
          "output_type": "stream",
          "text": [
            "       Unnamed: 15       adult_male            ... survived            who          \n",
            "pclass           1  2  3          1    2    3  ...        1    2    3    1    2    3\n",
            "sex                                            ...                                  \n",
            "female           0  0  0         94   76  144  ...       94   76  144   94   76  144\n",
            "male             0  0  0        122  108  347  ...      122  108  347  122  108  347\n",
            "\n",
            "[2 rows x 42 columns]\n"
          ],
          "name": "stdout"
        }
      ]
    },
    {
      "cell_type": "markdown",
      "metadata": {
        "id": "h2hO41aYLJS-",
        "colab_type": "text"
      },
      "source": [
        "Q28. Write a pandas program to create the Pivot table and separate\n",
        "the gender according to whether they travelled alone or not to get\n",
        "the probability of survival\n"
      ]
    },
    {
      "cell_type": "code",
      "metadata": {
        "id": "mnVM-CM9LJS-",
        "colab_type": "code",
        "outputId": "9faf07be-b4b6-4936-95d8-cacbc49baf03",
        "colab": {
          "base_uri": "https://localhost:8080/",
          "height": 118
        }
      },
      "source": [
        "import pandas as pd\n",
        "import numpy as np\n",
        "df = pd.read_csv('titanic.csv')\n",
        "result = df.pivot_table( 'survived' , [ 'sex' , 'alone' ] , 'class' )\n",
        "print(result)"
      ],
      "execution_count": 0,
      "outputs": [
        {
          "output_type": "stream",
          "text": [
            "class            First    Second     Third\n",
            "sex    alone                              \n",
            "female False  0.966667  0.931818  0.416667\n",
            "       True   0.970588  0.906250  0.616667\n",
            "male   False  0.425532  0.277778  0.180723\n",
            "       True   0.333333  0.097222  0.121212\n"
          ],
          "name": "stdout"
        }
      ]
    },
    {
      "cell_type": "markdown",
      "metadata": {
        "id": "qvZS5bb9LJTA",
        "colab_type": "text"
      },
      "source": [
        "Q29. Write a pandas program to create the Pivot table and find the\n",
        "probability of survival by class, gender, solo boarding, and the port\n",
        "of embarkation."
      ]
    },
    {
      "cell_type": "code",
      "metadata": {
        "id": "vhvXfA6BLJTA",
        "colab_type": "code",
        "outputId": "2dbcfbc1-2a7a-4398-86e5-6e586fc3a1f5",
        "colab": {
          "base_uri": "https://localhost:8080/",
          "height": 168
        }
      },
      "source": [
        "import pandas as pd\n",
        "import numpy as np\n",
        "df = pd.read_csv('titanic.csv')\n",
        "result = df.pivot_table('survived', ['sex' , 'alone' ], [ 'embark_town', 'class' ])\n",
        "print(result)"
      ],
      "execution_count": 0,
      "outputs": [
        {
          "output_type": "stream",
          "text": [
            "embark_town  Cherbourg                      ... Southampton                    \n",
            "class            First    Second     Third  ...       First    Second     Third\n",
            "sex    alone                                ...                                \n",
            "female False  1.000000  1.000000  0.611111  ...    0.941176  0.923077  0.327586\n",
            "       True   0.944444  1.000000  0.800000  ...    1.000000  0.892857  0.466667\n",
            "male   False  0.473684  0.166667  0.500000  ...    0.407407  0.300000  0.142857\n",
            "       True   0.347826  0.250000  0.151515  ...    0.326923  0.089552  0.123762\n",
            "\n",
            "[4 rows x 9 columns]\n"
          ],
          "name": "stdout"
        }
      ]
    },
    {
      "cell_type": "markdown",
      "metadata": {
        "id": "hWsH9abVLJTD",
        "colab_type": "text"
      },
      "source": [
        "Q30. Write a pandas program to get current date, oldest date and\n",
        "number of days between Current date and the oldest date of Ufo\n",
        "dataset."
      ]
    },
    {
      "cell_type": "code",
      "metadata": {
        "id": "yZ594p_7LJTD",
        "colab_type": "code",
        "outputId": "3785ffcb-1029-4617-a505-fc0808796126",
        "colab": {
          "base_uri": "https://localhost:8080/",
          "height": 319
        }
      },
      "source": [
        "import pandas as pd\n",
        "df = pd.read_csv(r'ufo1.csv')\n",
        "\n",
        "df['Date_time '] = df['Date_time '].astype('datetime64[ns]')\n",
        "print(\"Original Dataframe:\")\n",
        "print(df.head())\n",
        "print(\"\\nCurrent date of Ufo dataset:\")\n",
        "print(df['Date_time '].max())\n",
        "print(\"\\nOldest date of Ufo dataset:\")\n",
        "print(df['Date_time '].min())\n",
        "print(\"\\nNumber of days between Current date and oldest date of Ufo dataset:\")\n",
        "print((df['Date_time '].max() - df['Date_time '].min()).days)"
      ],
      "execution_count": 0,
      "outputs": [
        {
          "output_type": "stream",
          "text": [
            "Original Dataframe:\n",
            "           Date_time                   city  ...   latitude   longitude\n",
            "0 1949-10-10 20:30:00            san marcos  ...  29.883056  -97.941111\n",
            "1 1949-10-10 21:00:00          lackland afb  ...  29.384210  -98.581082\n",
            "2 1955-10-10 17:00:00  chester (uk/england)  ...  53.200000   -2.916667\n",
            "3 1956-10-10 21:00:00                  edna  ...  28.978333  -96.645833\n",
            "4 1960-10-10 20:00:00               kaneohe  ...  21.418056 -157.803611\n",
            "\n",
            "[5 rows x 11 columns]\n",
            "\n",
            "Current date of Ufo dataset:\n",
            "2013-10-10 21:30:00\n",
            "\n",
            "Oldest date of Ufo dataset:\n",
            "1949-10-10 20:30:00\n",
            "\n",
            "Number of days between Current date and oldest date of Ufo dataset:\n",
            "23376\n"
          ],
          "name": "stdout"
        }
      ]
    },
    {
      "cell_type": "markdown",
      "metadata": {
        "id": "1L3VjFlpLJTG",
        "colab_type": "text"
      },
      "source": [
        "Q31. Write a pandas program to get all sighting days of the\n",
        "unidentified flying object (ufo) between 1950-10-10 and 1960-10-\n",
        "10."
      ]
    },
    {
      "cell_type": "code",
      "metadata": {
        "id": "AEKjZX_BLJTG",
        "colab_type": "code",
        "outputId": "c70ca785-5c96-473f-eb98-05028eee2bbe",
        "colab": {
          "base_uri": "https://localhost:8080/",
          "height": 302
        }
      },
      "source": [
        "import pandas as pd\n",
        "df = pd.read_csv(r'ufo1.csv')\n",
        "df['Date_time '] = df['Date_time '].astype('datetime64[ns]')\n",
        "print(\"Original Dataframe:\")\n",
        "print(df.head())\n",
        "print(\"\\nSighting days of the unidentified flying object (ufo) between 1949-10-10 and 1960-10-10:\")\n",
        "selected_period = df[(df['Date_time '] >= '1950-01-01 00:00:00') & (df['Date_time '] <= '1960-12-31 23:59:59')]\n",
        "print(selected_period)"
      ],
      "execution_count": 0,
      "outputs": [
        {
          "output_type": "stream",
          "text": [
            "Original Dataframe:\n",
            "           Date_time                   city  ...   latitude   longitude\n",
            "0 1949-10-10 20:30:00            san marcos  ...  29.883056  -97.941111\n",
            "1 1949-10-10 21:00:00          lackland afb  ...  29.384210  -98.581082\n",
            "2 1955-10-10 17:00:00  chester (uk/england)  ...  53.200000   -2.916667\n",
            "3 1956-10-10 21:00:00                  edna  ...  28.978333  -96.645833\n",
            "4 1960-10-10 20:00:00               kaneohe  ...  21.418056 -157.803611\n",
            "\n",
            "[5 rows x 11 columns]\n",
            "\n",
            "Sighting days of the unidentified flying object (ufo) between 1949-10-10 and 1960-10-10:\n",
            "           Date_time                   city  ...   latitude   longitude\n",
            "2 1955-10-10 17:00:00  chester (uk/england)  ...  53.200000   -2.916667\n",
            "3 1956-10-10 21:00:00                  edna  ...  28.978333  -96.645833\n",
            "4 1960-10-10 20:00:00               kaneohe  ...  21.418056 -157.803611\n",
            "\n",
            "[3 rows x 11 columns]\n"
          ],
          "name": "stdout"
        }
      ]
    },
    {
      "cell_type": "markdown",
      "metadata": {
        "id": "JojxUeB8LJTI",
        "colab_type": "text"
      },
      "source": [
        "Q32. Write a Pandas program to extract the year, month, day, hour,\n",
        "minute, second, and weekday from unidentified flying object (UFO)\n",
        "reporting date."
      ]
    },
    {
      "cell_type": "code",
      "metadata": {
        "id": "CvuL3YSGLJTI",
        "colab_type": "code",
        "outputId": "641e50d4-e7b3-498b-bd21-6f25873dcf94",
        "colab": {
          "base_uri": "https://localhost:8080/",
          "height": 1000
        }
      },
      "source": [
        "import pandas as pd\n",
        "df = pd.read_csv(r'ufo1.csv')\n",
        "df['Date_time '] = df['Date_time '].astype('datetime64[ns]')\n",
        "print(\"Original Dataframe:\")\n",
        "print(df.head())\n",
        "print(\"\\nYear:\")\n",
        "print(df['Date_time '].dt.year.head())\n",
        "print(\"\\nMonth:\")\n",
        "print(df['Date_time '].dt.month.head())\n",
        "print(\"\\nDay:\")\n",
        "print(df['Date_time '].dt.day.head())\n",
        "print(\"\\nHour:\")\n",
        "print(df['Date_time '].dt.hour.head())\n",
        "print(\"\\nMinute:\")\n",
        "print(df['Date_time '].dt.minute.head())\n",
        "print(\"\\nSecond:\")\n",
        "print(df['Date_time '].dt.second.head())\n",
        "print(\"\\nWeekday:\")\n",
        "print(df['Date_time '].dt.day_name())"
      ],
      "execution_count": 0,
      "outputs": [
        {
          "output_type": "stream",
          "text": [
            "Original Dataframe:\n",
            "           Date_time                   city  ...   latitude   longitude\n",
            "0 1949-10-10 20:30:00            san marcos  ...  29.883056  -97.941111\n",
            "1 1949-10-10 21:00:00          lackland afb  ...  29.384210  -98.581082\n",
            "2 1955-10-10 17:00:00  chester (uk/england)  ...  53.200000   -2.916667\n",
            "3 1956-10-10 21:00:00                  edna  ...  28.978333  -96.645833\n",
            "4 1960-10-10 20:00:00               kaneohe  ...  21.418056 -157.803611\n",
            "\n",
            "[5 rows x 11 columns]\n",
            "\n",
            "Year:\n",
            "0    1949\n",
            "1    1949\n",
            "2    1955\n",
            "3    1956\n",
            "4    1960\n",
            "Name: Date_time , dtype: int64\n",
            "\n",
            "Month:\n",
            "0    10\n",
            "1    10\n",
            "2    10\n",
            "3    10\n",
            "4    10\n",
            "Name: Date_time , dtype: int64\n",
            "\n",
            "Day:\n",
            "0    10\n",
            "1    10\n",
            "2    10\n",
            "3    10\n",
            "4    10\n",
            "Name: Date_time , dtype: int64\n",
            "\n",
            "Hour:\n",
            "0    20\n",
            "1    21\n",
            "2    17\n",
            "3    21\n",
            "4    20\n",
            "Name: Date_time , dtype: int64\n",
            "\n",
            "Minute:\n",
            "0    30\n",
            "1     0\n",
            "2     0\n",
            "3     0\n",
            "4     0\n",
            "Name: Date_time , dtype: int64\n",
            "\n",
            "Second:\n",
            "0    0\n",
            "1    0\n",
            "2    0\n",
            "3    0\n",
            "4    0\n",
            "Name: Date_time , dtype: int64\n",
            "\n",
            "Weekday:\n",
            "0         Monday\n",
            "1         Monday\n",
            "2         Monday\n",
            "3      Wednesday\n",
            "4         Monday\n",
            "         ...    \n",
            "347       Monday\n",
            "348       Monday\n",
            "349       Monday\n",
            "350       Monday\n",
            "351       Monday\n",
            "Name: Date_time , Length: 352, dtype: object\n"
          ],
          "name": "stdout"
        }
      ]
    },
    {
      "cell_type": "markdown",
      "metadata": {
        "id": "pV3XQZdhLJTK",
        "colab_type": "text"
      },
      "source": [
        "Q33. Write a pandas program to count year-country wise frequency of\n",
        "reporting dates of the unidentified flying object(UFO).\n"
      ]
    },
    {
      "cell_type": "code",
      "metadata": {
        "id": "qr1JJCFpLJTL",
        "colab_type": "code",
        "outputId": "da4d966f-91c1-4348-c7a1-f06b9e9b1942",
        "colab": {
          "base_uri": "https://localhost:8080/",
          "height": 420
        }
      },
      "source": [
        "import pandas as pd\n",
        "df = pd.read_csv('ufo1.csv')\n",
        "df['Date_time '] = df['Date_time '].astype('datetime64[ns]')\n",
        "print(\"Original Dataframe:\")\n",
        "print(df.head())\n",
        "df['Year'] = df['Date_time '].apply(lambda x: \"%d\" % (x.year))\n",
        "result = df.groupby(['Year', 'country']).size()\n",
        "print(\"\\nCountry-year wise frequency of reporting dates of UFO:\")\n",
        "print(result)"
      ],
      "execution_count": 0,
      "outputs": [
        {
          "output_type": "stream",
          "text": [
            "Original Dataframe:\n",
            "           Date_time                   city  ...   latitude   longitude\n",
            "0 1949-10-10 20:30:00            san marcos  ...  29.883056  -97.941111\n",
            "1 1949-10-10 21:00:00          lackland afb  ...  29.384210  -98.581082\n",
            "2 1955-10-10 17:00:00  chester (uk/england)  ...  53.200000   -2.916667\n",
            "3 1956-10-10 21:00:00                  edna  ...  28.978333  -96.645833\n",
            "4 1960-10-10 20:00:00               kaneohe  ...  21.418056 -157.803611\n",
            "\n",
            "[5 rows x 11 columns]\n",
            "\n",
            "Country-year wise frequency of reporting dates of UFO:\n",
            "Year  country\n",
            "1949  us          1\n",
            "1955  gb          1\n",
            "1956  us          1\n",
            "1960  us          1\n",
            "1961  us          1\n",
            "                 ..\n",
            "2011  gb          1\n",
            "      us         12\n",
            "2012  us         18\n",
            "2013  ca          2\n",
            "      us         13\n",
            "Length: 68, dtype: int64\n"
          ],
          "name": "stdout"
        }
      ]
    },
    {
      "cell_type": "markdown",
      "metadata": {
        "id": "tdE4C56pLJTM",
        "colab_type": "text"
      },
      "source": [
        "Q34. Write a pandas program to get the difference (in days) between\n",
        "documented date and reporting date of unidentified flying object\n",
        "(UFO)."
      ]
    },
    {
      "cell_type": "code",
      "metadata": {
        "id": "P-_5GP11LJTN",
        "colab_type": "code",
        "outputId": "8c7be38a-f1ba-45b8-fa43-54bacd9a5cae",
        "colab": {
          "base_uri": "https://localhost:8080/",
          "height": 437
        }
      },
      "source": [
        "import pandas as pd\n",
        "df = pd.read_csv(r'ufo1.csv')\n",
        "df['Date_time '] = df['Date_time '].astype('datetime64[ns]')\n",
        "df['date_documented'] = df['date_documented'].astype('datetime64[ns]')\n",
        "print(\"Original Dataframe:\")\n",
        "print(df.head())\n",
        "print(\"\\nDifference (in days) between documented date and reporting date of UFO:\")\n",
        "df['Difference'] = (df['date_documented'] - df['Date_time ']).dt.days\n",
        "print(df)"
      ],
      "execution_count": 0,
      "outputs": [
        {
          "output_type": "stream",
          "text": [
            "Original Dataframe:\n",
            "           Date_time                   city  ...   latitude   longitude\n",
            "0 1949-10-10 20:30:00            san marcos  ...  29.883056  -97.941111\n",
            "1 1949-10-10 21:00:00          lackland afb  ...  29.384210  -98.581082\n",
            "2 1955-10-10 17:00:00  chester (uk/england)  ...  53.200000   -2.916667\n",
            "3 1956-10-10 21:00:00                  edna  ...  28.978333  -96.645833\n",
            "4 1960-10-10 20:00:00               kaneohe  ...  21.418056 -157.803611\n",
            "\n",
            "[5 rows x 11 columns]\n",
            "\n",
            "Difference (in days) between documented date and reporting date of UFO:\n",
            "             Date_time                   city  ...   longitude Difference\n",
            "0   1949-10-10 20:30:00            san marcos  ...  -97.941111      19922\n",
            "1   1949-10-10 21:00:00          lackland afb  ...  -98.581082      20520\n",
            "2   1955-10-10 17:00:00  chester (uk/england)  ...   -2.916667      19095\n",
            "3   1956-10-10 21:00:00                  edna  ...  -96.645833      17264\n",
            "4   1960-10-10 20:00:00               kaneohe  ... -157.803611      15808\n",
            "..                  ...                   ...  ...         ...        ...\n",
            "347 2004-10-11 01:00:00              honolulu  ... -157.858333         15\n",
            "348 2004-10-11 02:37:00           los angeles  ... -118.242778         15\n",
            "349 2004-10-11 03:40:00                dallas  ... -123.315833         15\n",
            "350 2004-10-11 04:15:00                pitman  ...  -75.131944         15\n",
            "351 2004-10-11 05:00:00              san jose  ... -121.893889         15\n",
            "\n",
            "[352 rows x 12 columns]\n"
          ],
          "name": "stdout"
        }
      ]
    },
    {
      "cell_type": "markdown",
      "metadata": {
        "id": "-hHAY2yULJTP",
        "colab_type": "text"
      },
      "source": [
        "Q35. Write a pandas program to generate sequences of fixedfrequency dates and time spans."
      ]
    },
    {
      "cell_type": "code",
      "metadata": {
        "id": "C-tP0-ewLJTP",
        "colab_type": "code",
        "outputId": "c2895d6c-6735-4bde-c0a4-560e65b7d76a",
        "colab": {
          "base_uri": "https://localhost:8080/",
          "height": 1000
        }
      },
      "source": [
        "import pandas as pd\n",
        "dtr = pd.date_range('2018-01-01', periods=12, freq='H')\n",
        "print(\"Hourly frequency:\")\n",
        "print(dtr)\n",
        "dtr = pd.date_range('2018-01-01', periods=12, freq='min')\n",
        "print(\"\\nMinutely frequency:\")\n",
        "print(dtr)\n",
        "dtr = pd.date_range('2018-01-01', periods=12, freq='S')\n",
        "print(\"\\nSecondly frequency:\")\n",
        "print(dtr)\n",
        "dtr = pd.date_range('2018-01-01', periods=12, freq='2H')\n",
        "print(\"nMultiple Hourly frequency:\")\n",
        "print(dtr)\n",
        "dtr = pd.date_range('2018-01-01', periods=12, freq='5min')\n",
        "print(\"\\nMultiple Minutely frequency:\")\n",
        "print(dtr)\n",
        "dtr = pd.date_range('2018-01-01', periods=12, freq='BQ')\n",
        "print(\"\\nMultiple Secondly frequency:\")\n",
        "print(dtr)\n",
        "dtr = pd.date_range('2018-01-01', periods=12, freq='w')\n",
        "print(\"\\nWeekly frequency:\")\n",
        "print(dtr)\n",
        "dtr = pd.date_range('2018-01-01', periods=12, freq='2h20min')\n",
        "print(\"\\nCombine together day and intraday offsets-1:\")\n",
        "print(dtr)\n",
        "dtr = pd.date_range('2018-01-01', periods=12, freq='1D10U')\n",
        "print(\"\\nCombine together day and intraday offsets-2:\")\n",
        "print(dtr)"
      ],
      "execution_count": 0,
      "outputs": [
        {
          "output_type": "stream",
          "text": [
            "Hourly frequency:\n",
            "DatetimeIndex(['2018-01-01 00:00:00', '2018-01-01 01:00:00',\n",
            "               '2018-01-01 02:00:00', '2018-01-01 03:00:00',\n",
            "               '2018-01-01 04:00:00', '2018-01-01 05:00:00',\n",
            "               '2018-01-01 06:00:00', '2018-01-01 07:00:00',\n",
            "               '2018-01-01 08:00:00', '2018-01-01 09:00:00',\n",
            "               '2018-01-01 10:00:00', '2018-01-01 11:00:00'],\n",
            "              dtype='datetime64[ns]', freq='H')\n",
            "\n",
            "Minutely frequency:\n",
            "DatetimeIndex(['2018-01-01 00:00:00', '2018-01-01 00:01:00',\n",
            "               '2018-01-01 00:02:00', '2018-01-01 00:03:00',\n",
            "               '2018-01-01 00:04:00', '2018-01-01 00:05:00',\n",
            "               '2018-01-01 00:06:00', '2018-01-01 00:07:00',\n",
            "               '2018-01-01 00:08:00', '2018-01-01 00:09:00',\n",
            "               '2018-01-01 00:10:00', '2018-01-01 00:11:00'],\n",
            "              dtype='datetime64[ns]', freq='T')\n",
            "\n",
            "Secondly frequency:\n",
            "DatetimeIndex(['2018-01-01 00:00:00', '2018-01-01 00:00:01',\n",
            "               '2018-01-01 00:00:02', '2018-01-01 00:00:03',\n",
            "               '2018-01-01 00:00:04', '2018-01-01 00:00:05',\n",
            "               '2018-01-01 00:00:06', '2018-01-01 00:00:07',\n",
            "               '2018-01-01 00:00:08', '2018-01-01 00:00:09',\n",
            "               '2018-01-01 00:00:10', '2018-01-01 00:00:11'],\n",
            "              dtype='datetime64[ns]', freq='S')\n",
            "nMultiple Hourly frequency:\n",
            "DatetimeIndex(['2018-01-01 00:00:00', '2018-01-01 02:00:00',\n",
            "               '2018-01-01 04:00:00', '2018-01-01 06:00:00',\n",
            "               '2018-01-01 08:00:00', '2018-01-01 10:00:00',\n",
            "               '2018-01-01 12:00:00', '2018-01-01 14:00:00',\n",
            "               '2018-01-01 16:00:00', '2018-01-01 18:00:00',\n",
            "               '2018-01-01 20:00:00', '2018-01-01 22:00:00'],\n",
            "              dtype='datetime64[ns]', freq='2H')\n",
            "\n",
            "Multiple Minutely frequency:\n",
            "DatetimeIndex(['2018-01-01 00:00:00', '2018-01-01 00:05:00',\n",
            "               '2018-01-01 00:10:00', '2018-01-01 00:15:00',\n",
            "               '2018-01-01 00:20:00', '2018-01-01 00:25:00',\n",
            "               '2018-01-01 00:30:00', '2018-01-01 00:35:00',\n",
            "               '2018-01-01 00:40:00', '2018-01-01 00:45:00',\n",
            "               '2018-01-01 00:50:00', '2018-01-01 00:55:00'],\n",
            "              dtype='datetime64[ns]', freq='5T')\n",
            "\n",
            "Multiple Secondly frequency:\n",
            "DatetimeIndex(['2018-03-30', '2018-06-29', '2018-09-28', '2018-12-31',\n",
            "               '2019-03-29', '2019-06-28', '2019-09-30', '2019-12-31',\n",
            "               '2020-03-31', '2020-06-30', '2020-09-30', '2020-12-31'],\n",
            "              dtype='datetime64[ns]', freq='BQ-DEC')\n",
            "\n",
            "Weekly frequency:\n",
            "DatetimeIndex(['2018-01-07', '2018-01-14', '2018-01-21', '2018-01-28',\n",
            "               '2018-02-04', '2018-02-11', '2018-02-18', '2018-02-25',\n",
            "               '2018-03-04', '2018-03-11', '2018-03-18', '2018-03-25'],\n",
            "              dtype='datetime64[ns]', freq='W-SUN')\n",
            "\n",
            "Combine together day and intraday offsets-1:\n",
            "DatetimeIndex(['2018-01-01 00:00:00', '2018-01-01 02:20:00',\n",
            "               '2018-01-01 04:40:00', '2018-01-01 07:00:00',\n",
            "               '2018-01-01 09:20:00', '2018-01-01 11:40:00',\n",
            "               '2018-01-01 14:00:00', '2018-01-01 16:20:00',\n",
            "               '2018-01-01 18:40:00', '2018-01-01 21:00:00',\n",
            "               '2018-01-01 23:20:00', '2018-01-02 01:40:00'],\n",
            "              dtype='datetime64[ns]', freq='140T')\n",
            "\n",
            "Combine together day and intraday offsets-2:\n",
            "DatetimeIndex([       '2018-01-01 00:00:00', '2018-01-02 00:00:00.000010',\n",
            "               '2018-01-03 00:00:00.000020', '2018-01-04 00:00:00.000030',\n",
            "               '2018-01-05 00:00:00.000040', '2018-01-06 00:00:00.000050',\n",
            "               '2018-01-07 00:00:00.000060', '2018-01-08 00:00:00.000070',\n",
            "               '2018-01-09 00:00:00.000080', '2018-01-10 00:00:00.000090',\n",
            "               '2018-01-11 00:00:00.000100', '2018-01-12 00:00:00.000110'],\n",
            "              dtype='datetime64[ns]', freq='86400000010U')\n"
          ],
          "name": "stdout"
        }
      ]
    },
    {
      "cell_type": "markdown",
      "metadata": {
        "id": "7zpQSMA2LJTR",
        "colab_type": "text"
      },
      "source": [
        "Q36. Write a pandas program to manipulate and convert date times\n",
        "with timezone information."
      ]
    },
    {
      "cell_type": "code",
      "metadata": {
        "id": "vkO9SV5sLJTR",
        "colab_type": "code",
        "outputId": "4a86b54d-ea40-4595-c8f2-4cf03474c329",
        "colab": {
          "base_uri": "https://localhost:8080/",
          "height": 151
        }
      },
      "source": [
        "import pandas as pd\n",
        "dtt = pd.date_range('2018-01-01', periods=3, freq='H')\n",
        "dtt = dtt.tz_localize('UTC')\n",
        "print(dtt)\n",
        "print(\"\\nFrom UTC to America/Los_Angeles:\")\n",
        "dtt = dtt.tz_convert('America/Los_Angeles')\n",
        "print(dtt)"
      ],
      "execution_count": 0,
      "outputs": [
        {
          "output_type": "stream",
          "text": [
            "DatetimeIndex(['2018-01-01 00:00:00+00:00', '2018-01-01 01:00:00+00:00',\n",
            "               '2018-01-01 02:00:00+00:00'],\n",
            "              dtype='datetime64[ns, UTC]', freq='H')\n",
            "\n",
            "From UTC to America/Los_Angeles:\n",
            "DatetimeIndex(['2017-12-31 16:00:00-08:00', '2017-12-31 17:00:00-08:00',\n",
            "               '2017-12-31 18:00:00-08:00'],\n",
            "              dtype='datetime64[ns, America/Los_Angeles]', freq='H')\n"
          ],
          "name": "stdout"
        }
      ]
    },
    {
      "cell_type": "markdown",
      "metadata": {
        "id": "omUxZuKb99-W",
        "colab_type": "text"
      },
      "source": [
        "**UFO Sightings EDA**"
      ]
    },
    {
      "cell_type": "code",
      "metadata": {
        "id": "ieNKsMvP9Vp-",
        "colab_type": "code",
        "colab": {
          "base_uri": "https://localhost:8080/",
          "height": 70
        },
        "outputId": "1ee9b66a-df18-4816-dfd6-bfce3aa43a5d"
      },
      "source": [
        "import pandas as pd\n",
        "\n",
        "import matplotlib.pyplot as plt\n",
        "import seaborn as sns\n",
        "import matplotlib as mpl\n",
        "import matplotlib.cm as cm\n",
        "scrubbed = pd.read_csv('scrubbed.csv',low_memory=False)"
      ],
      "execution_count": 4,
      "outputs": [
        {
          "output_type": "stream",
          "text": [
            "/usr/local/lib/python3.6/dist-packages/statsmodels/tools/_testing.py:19: FutureWarning: pandas.util.testing is deprecated. Use the functions in the public API at pandas.testing instead.\n",
            "  import pandas.util.testing as tm\n"
          ],
          "name": "stderr"
        }
      ]
    },
    {
      "cell_type": "code",
      "metadata": {
        "id": "5pyUS3CI92pe",
        "colab_type": "code",
        "colab": {
          "base_uri": "https://localhost:8080/",
          "height": 296
        },
        "outputId": "f2832006-6186-486e-ac52-8cfdf3802ebb"
      },
      "source": [
        "scrubbed.head()"
      ],
      "execution_count": 5,
      "outputs": [
        {
          "output_type": "execute_result",
          "data": {
            "text/html": [
              "<div>\n",
              "<style scoped>\n",
              "    .dataframe tbody tr th:only-of-type {\n",
              "        vertical-align: middle;\n",
              "    }\n",
              "\n",
              "    .dataframe tbody tr th {\n",
              "        vertical-align: top;\n",
              "    }\n",
              "\n",
              "    .dataframe thead th {\n",
              "        text-align: right;\n",
              "    }\n",
              "</style>\n",
              "<table border=\"1\" class=\"dataframe\">\n",
              "  <thead>\n",
              "    <tr style=\"text-align: right;\">\n",
              "      <th></th>\n",
              "      <th>datetime</th>\n",
              "      <th>city</th>\n",
              "      <th>state</th>\n",
              "      <th>country</th>\n",
              "      <th>shape</th>\n",
              "      <th>duration (seconds)</th>\n",
              "      <th>duration (hours/min)</th>\n",
              "      <th>comments</th>\n",
              "      <th>date posted</th>\n",
              "      <th>latitude</th>\n",
              "      <th>longitude</th>\n",
              "    </tr>\n",
              "  </thead>\n",
              "  <tbody>\n",
              "    <tr>\n",
              "      <th>0</th>\n",
              "      <td>10/10/1949 20:30</td>\n",
              "      <td>san marcos</td>\n",
              "      <td>tx</td>\n",
              "      <td>us</td>\n",
              "      <td>cylinder</td>\n",
              "      <td>2700</td>\n",
              "      <td>45 minutes</td>\n",
              "      <td>This event took place in early fall around 194...</td>\n",
              "      <td>4/27/2004</td>\n",
              "      <td>29.8830556</td>\n",
              "      <td>-97.941111</td>\n",
              "    </tr>\n",
              "    <tr>\n",
              "      <th>1</th>\n",
              "      <td>10/10/1949 21:00</td>\n",
              "      <td>lackland afb</td>\n",
              "      <td>tx</td>\n",
              "      <td>NaN</td>\n",
              "      <td>light</td>\n",
              "      <td>7200</td>\n",
              "      <td>1-2 hrs</td>\n",
              "      <td>1949 Lackland AFB&amp;#44 TX.  Lights racing acros...</td>\n",
              "      <td>12/16/2005</td>\n",
              "      <td>29.38421</td>\n",
              "      <td>-98.581082</td>\n",
              "    </tr>\n",
              "    <tr>\n",
              "      <th>2</th>\n",
              "      <td>10/10/1955 17:00</td>\n",
              "      <td>chester (uk/england)</td>\n",
              "      <td>NaN</td>\n",
              "      <td>gb</td>\n",
              "      <td>circle</td>\n",
              "      <td>20</td>\n",
              "      <td>20 seconds</td>\n",
              "      <td>Green/Orange circular disc over Chester&amp;#44 En...</td>\n",
              "      <td>1/21/2008</td>\n",
              "      <td>53.2</td>\n",
              "      <td>-2.916667</td>\n",
              "    </tr>\n",
              "    <tr>\n",
              "      <th>3</th>\n",
              "      <td>10/10/1956 21:00</td>\n",
              "      <td>edna</td>\n",
              "      <td>tx</td>\n",
              "      <td>us</td>\n",
              "      <td>circle</td>\n",
              "      <td>20</td>\n",
              "      <td>1/2 hour</td>\n",
              "      <td>My older brother and twin sister were leaving ...</td>\n",
              "      <td>1/17/2004</td>\n",
              "      <td>28.9783333</td>\n",
              "      <td>-96.645833</td>\n",
              "    </tr>\n",
              "    <tr>\n",
              "      <th>4</th>\n",
              "      <td>10/10/1960 20:00</td>\n",
              "      <td>kaneohe</td>\n",
              "      <td>hi</td>\n",
              "      <td>us</td>\n",
              "      <td>light</td>\n",
              "      <td>900</td>\n",
              "      <td>15 minutes</td>\n",
              "      <td>AS a Marine 1st Lt. flying an FJ4B fighter/att...</td>\n",
              "      <td>1/22/2004</td>\n",
              "      <td>21.4180556</td>\n",
              "      <td>-157.803611</td>\n",
              "    </tr>\n",
              "  </tbody>\n",
              "</table>\n",
              "</div>"
            ],
            "text/plain": [
              "           datetime                  city  ...    latitude  longitude \n",
              "0  10/10/1949 20:30            san marcos  ...  29.8830556  -97.941111\n",
              "1  10/10/1949 21:00          lackland afb  ...    29.38421  -98.581082\n",
              "2  10/10/1955 17:00  chester (uk/england)  ...        53.2   -2.916667\n",
              "3  10/10/1956 21:00                  edna  ...  28.9783333  -96.645833\n",
              "4  10/10/1960 20:00               kaneohe  ...  21.4180556 -157.803611\n",
              "\n",
              "[5 rows x 11 columns]"
            ]
          },
          "metadata": {
            "tags": []
          },
          "execution_count": 5
        }
      ]
    },
    {
      "cell_type": "markdown",
      "metadata": {
        "id": "W9MklPUF-rup",
        "colab_type": "text"
      },
      "source": [
        "**Data Cleaning**"
      ]
    },
    {
      "cell_type": "code",
      "metadata": {
        "id": "c3uv8FX4-Pt0",
        "colab_type": "code",
        "colab": {}
      },
      "source": [
        "clean_df = scrubbed.fillna(value=0)\n"
      ],
      "execution_count": 0,
      "outputs": []
    },
    {
      "cell_type": "code",
      "metadata": {
        "id": "DHHUB0sA-9cc",
        "colab_type": "code",
        "colab": {
          "base_uri": "https://localhost:8080/",
          "height": 34
        },
        "outputId": "e1d5a0d4-dc8e-4194-a71d-610b42ad886e"
      },
      "source": [
        "clean_df['country'] = clean_df['country'].map({'us': 'USA', 'gb': 'UK', 'ca': 'Canada', 'au': 'Australia', 'de': 'Germany'})\n",
        "clean_df['country'].unique()"
      ],
      "execution_count": 8,
      "outputs": [
        {
          "output_type": "execute_result",
          "data": {
            "text/plain": [
              "array(['USA', nan, 'UK', 'Canada', 'Australia', 'Germany'], dtype=object)"
            ]
          },
          "metadata": {
            "tags": []
          },
          "execution_count": 8
        }
      ]
    },
    {
      "cell_type": "code",
      "metadata": {
        "id": "BfqeDD1B_CAz",
        "colab_type": "code",
        "colab": {}
      },
      "source": [
        "#Converting Date column to datettime format\n",
        "clean_df['datetime'] = pd.to_datetime(clean_df['datetime'],errors='coerce')"
      ],
      "execution_count": 0,
      "outputs": []
    },
    {
      "cell_type": "code",
      "metadata": {
        "id": "Yrd9ng7Q_LFB",
        "colab_type": "code",
        "colab": {
          "base_uri": "https://localhost:8080/",
          "height": 34
        },
        "outputId": "6c88797c-0b22-4f6b-9c69-766a18cb483a"
      },
      "source": [
        "shape_unknown = clean_df[(clean_df['shape'] == 'unknown') | (clean_df['shape'] == 'other') | (clean_df['shape'] == '')]\n",
        "shape_unknown_count = shape_unknown['shape'].count()\n",
        "print(\"Shape couldn't be identified for {} sightings.\".format(shape_unknown_count))"
      ],
      "execution_count": 10,
      "outputs": [
        {
          "output_type": "stream",
          "text": [
            "Shape couldn't be identified for 11233 sightings.\n"
          ],
          "name": "stdout"
        }
      ]
    },
    {
      "cell_type": "code",
      "metadata": {
        "id": "NTz_5dbI_TTp",
        "colab_type": "code",
        "colab": {
          "base_uri": "https://localhost:8080/",
          "height": 34
        },
        "outputId": "3d6119bf-6ebe-40c9-f875-ae30341415ca"
      },
      "source": [
        "shape_known = clean_df.drop(clean_df[(clean_df['shape'] == 'unknown') | (clean_df['shape'] == 'other') | (clean_df['shape'] == '')].index)\n",
        "shape_known_count = shape_known['city'].count()\n",
        "print(\"Shape could be identified for {} sightings.\".format(shape_known_count))"
      ],
      "execution_count": 11,
      "outputs": [
        {
          "output_type": "stream",
          "text": [
            "Shape could be identified for 69099 sightings.\n"
          ],
          "name": "stdout"
        }
      ]
    },
    {
      "cell_type": "code",
      "metadata": {
        "id": "PAlGHfku_XkK",
        "colab_type": "code",
        "colab": {
          "base_uri": "https://localhost:8080/",
          "height": 34
        },
        "outputId": "4e420825-ffa6-4aee-d0b9-c86fc22dd2ce"
      },
      "source": [
        "percent_shape_known = ((shape_known_count)/(shape_known_count + shape_unknown_count))*100\n",
        "print(\"{}% of the time, shapes were identified.\".format(percent_shape_known.round(2)))"
      ],
      "execution_count": 12,
      "outputs": [
        {
          "output_type": "stream",
          "text": [
            "86.02% of the time, shapes were identified.\n"
          ],
          "name": "stdout"
        }
      ]
    },
    {
      "cell_type": "code",
      "metadata": {
        "id": "tCkXx0B5_ci6",
        "colab_type": "code",
        "colab": {
          "base_uri": "https://localhost:8080/",
          "height": 528
        },
        "outputId": "70458283-f4fc-4eb6-9178-06d15ce52006"
      },
      "source": [
        "clean_df.head(10)"
      ],
      "execution_count": 13,
      "outputs": [
        {
          "output_type": "execute_result",
          "data": {
            "text/html": [
              "<div>\n",
              "<style scoped>\n",
              "    .dataframe tbody tr th:only-of-type {\n",
              "        vertical-align: middle;\n",
              "    }\n",
              "\n",
              "    .dataframe tbody tr th {\n",
              "        vertical-align: top;\n",
              "    }\n",
              "\n",
              "    .dataframe thead th {\n",
              "        text-align: right;\n",
              "    }\n",
              "</style>\n",
              "<table border=\"1\" class=\"dataframe\">\n",
              "  <thead>\n",
              "    <tr style=\"text-align: right;\">\n",
              "      <th></th>\n",
              "      <th>datetime</th>\n",
              "      <th>city</th>\n",
              "      <th>state</th>\n",
              "      <th>country</th>\n",
              "      <th>shape</th>\n",
              "      <th>duration (seconds)</th>\n",
              "      <th>duration (hours/min)</th>\n",
              "      <th>comments</th>\n",
              "      <th>date posted</th>\n",
              "      <th>latitude</th>\n",
              "      <th>longitude</th>\n",
              "    </tr>\n",
              "  </thead>\n",
              "  <tbody>\n",
              "    <tr>\n",
              "      <th>0</th>\n",
              "      <td>1949-10-10 20:30:00</td>\n",
              "      <td>san marcos</td>\n",
              "      <td>tx</td>\n",
              "      <td>USA</td>\n",
              "      <td>cylinder</td>\n",
              "      <td>2700</td>\n",
              "      <td>45 minutes</td>\n",
              "      <td>This event took place in early fall around 194...</td>\n",
              "      <td>4/27/2004</td>\n",
              "      <td>29.8830556</td>\n",
              "      <td>-97.941111</td>\n",
              "    </tr>\n",
              "    <tr>\n",
              "      <th>1</th>\n",
              "      <td>1949-10-10 21:00:00</td>\n",
              "      <td>lackland afb</td>\n",
              "      <td>tx</td>\n",
              "      <td>NaN</td>\n",
              "      <td>light</td>\n",
              "      <td>7200</td>\n",
              "      <td>1-2 hrs</td>\n",
              "      <td>1949 Lackland AFB&amp;#44 TX.  Lights racing acros...</td>\n",
              "      <td>12/16/2005</td>\n",
              "      <td>29.38421</td>\n",
              "      <td>-98.581082</td>\n",
              "    </tr>\n",
              "    <tr>\n",
              "      <th>2</th>\n",
              "      <td>1955-10-10 17:00:00</td>\n",
              "      <td>chester (uk/england)</td>\n",
              "      <td>0</td>\n",
              "      <td>UK</td>\n",
              "      <td>circle</td>\n",
              "      <td>20</td>\n",
              "      <td>20 seconds</td>\n",
              "      <td>Green/Orange circular disc over Chester&amp;#44 En...</td>\n",
              "      <td>1/21/2008</td>\n",
              "      <td>53.2</td>\n",
              "      <td>-2.916667</td>\n",
              "    </tr>\n",
              "    <tr>\n",
              "      <th>3</th>\n",
              "      <td>1956-10-10 21:00:00</td>\n",
              "      <td>edna</td>\n",
              "      <td>tx</td>\n",
              "      <td>USA</td>\n",
              "      <td>circle</td>\n",
              "      <td>20</td>\n",
              "      <td>1/2 hour</td>\n",
              "      <td>My older brother and twin sister were leaving ...</td>\n",
              "      <td>1/17/2004</td>\n",
              "      <td>28.9783333</td>\n",
              "      <td>-96.645833</td>\n",
              "    </tr>\n",
              "    <tr>\n",
              "      <th>4</th>\n",
              "      <td>1960-10-10 20:00:00</td>\n",
              "      <td>kaneohe</td>\n",
              "      <td>hi</td>\n",
              "      <td>USA</td>\n",
              "      <td>light</td>\n",
              "      <td>900</td>\n",
              "      <td>15 minutes</td>\n",
              "      <td>AS a Marine 1st Lt. flying an FJ4B fighter/att...</td>\n",
              "      <td>1/22/2004</td>\n",
              "      <td>21.4180556</td>\n",
              "      <td>-157.803611</td>\n",
              "    </tr>\n",
              "    <tr>\n",
              "      <th>5</th>\n",
              "      <td>1961-10-10 19:00:00</td>\n",
              "      <td>bristol</td>\n",
              "      <td>tn</td>\n",
              "      <td>USA</td>\n",
              "      <td>sphere</td>\n",
              "      <td>300</td>\n",
              "      <td>5 minutes</td>\n",
              "      <td>My father is now 89 my brother 52 the girl wit...</td>\n",
              "      <td>4/27/2007</td>\n",
              "      <td>36.5950000</td>\n",
              "      <td>-82.188889</td>\n",
              "    </tr>\n",
              "    <tr>\n",
              "      <th>6</th>\n",
              "      <td>1965-10-10 21:00:00</td>\n",
              "      <td>penarth (uk/wales)</td>\n",
              "      <td>0</td>\n",
              "      <td>UK</td>\n",
              "      <td>circle</td>\n",
              "      <td>180</td>\n",
              "      <td>about 3 mins</td>\n",
              "      <td>penarth uk  circle  3mins  stayed 30ft above m...</td>\n",
              "      <td>2/14/2006</td>\n",
              "      <td>51.434722</td>\n",
              "      <td>-3.180000</td>\n",
              "    </tr>\n",
              "    <tr>\n",
              "      <th>7</th>\n",
              "      <td>1965-10-10 23:45:00</td>\n",
              "      <td>norwalk</td>\n",
              "      <td>ct</td>\n",
              "      <td>USA</td>\n",
              "      <td>disk</td>\n",
              "      <td>1200</td>\n",
              "      <td>20 minutes</td>\n",
              "      <td>A bright orange color changing to reddish colo...</td>\n",
              "      <td>10/2/1999</td>\n",
              "      <td>41.1175000</td>\n",
              "      <td>-73.408333</td>\n",
              "    </tr>\n",
              "    <tr>\n",
              "      <th>8</th>\n",
              "      <td>1966-10-10 20:00:00</td>\n",
              "      <td>pell city</td>\n",
              "      <td>al</td>\n",
              "      <td>USA</td>\n",
              "      <td>disk</td>\n",
              "      <td>180</td>\n",
              "      <td>3  minutes</td>\n",
              "      <td>Strobe Lighted disk shape object observed clos...</td>\n",
              "      <td>3/19/2009</td>\n",
              "      <td>33.5861111</td>\n",
              "      <td>-86.286111</td>\n",
              "    </tr>\n",
              "    <tr>\n",
              "      <th>9</th>\n",
              "      <td>1966-10-10 21:00:00</td>\n",
              "      <td>live oak</td>\n",
              "      <td>fl</td>\n",
              "      <td>USA</td>\n",
              "      <td>disk</td>\n",
              "      <td>120</td>\n",
              "      <td>several minutes</td>\n",
              "      <td>Saucer zaps energy from powerline as my pregna...</td>\n",
              "      <td>5/11/2005</td>\n",
              "      <td>30.2947222</td>\n",
              "      <td>-82.984167</td>\n",
              "    </tr>\n",
              "  </tbody>\n",
              "</table>\n",
              "</div>"
            ],
            "text/plain": [
              "             datetime                  city  ...    latitude  longitude \n",
              "0 1949-10-10 20:30:00            san marcos  ...  29.8830556  -97.941111\n",
              "1 1949-10-10 21:00:00          lackland afb  ...    29.38421  -98.581082\n",
              "2 1955-10-10 17:00:00  chester (uk/england)  ...        53.2   -2.916667\n",
              "3 1956-10-10 21:00:00                  edna  ...  28.9783333  -96.645833\n",
              "4 1960-10-10 20:00:00               kaneohe  ...  21.4180556 -157.803611\n",
              "5 1961-10-10 19:00:00               bristol  ...  36.5950000  -82.188889\n",
              "6 1965-10-10 21:00:00    penarth (uk/wales)  ...   51.434722   -3.180000\n",
              "7 1965-10-10 23:45:00               norwalk  ...  41.1175000  -73.408333\n",
              "8 1966-10-10 20:00:00             pell city  ...  33.5861111  -86.286111\n",
              "9 1966-10-10 21:00:00              live oak  ...  30.2947222  -82.984167\n",
              "\n",
              "[10 rows x 11 columns]"
            ]
          },
          "metadata": {
            "tags": []
          },
          "execution_count": 13
        }
      ]
    },
    {
      "cell_type": "markdown",
      "metadata": {
        "id": "F6do117--pol",
        "colab_type": "text"
      },
      "source": [
        ""
      ]
    },
    {
      "cell_type": "markdown",
      "metadata": {
        "id": "GyzAJ98VLJTT",
        "colab_type": "text"
      },
      "source": [
        "Q37. Write a pandas program to create the graphical analysis of UFO\n",
        "(unidentified flying object) Sightings year."
      ]
    },
    {
      "cell_type": "code",
      "metadata": {
        "id": "0aS82E6oLJTT",
        "colab_type": "code",
        "outputId": "bc4a6ad1-eaf9-4a1e-9b74-98a226806806",
        "colab": {
          "base_uri": "https://localhost:8080/",
          "height": 538
        }
      },
      "source": [
        "\n",
        "clean_df['datetime'] = clean_df['datetime'].astype('datetime64[ns]')\n",
        "clean_df[\"ufo_yr\"] = clean_df['datetime'].dt.year\n",
        "years_data = clean_df.ufo_yr.value_counts()\n",
        "\n",
        "years_index = years_data.index  # x ticks\n",
        "\n",
        "#df.to_numpy()\n",
        "years_values = years_data.to_numpy()\n",
        "plt.figure(figsize=(15,8))\n",
        "plt.xticks(rotation = 60)\n",
        "plt.title('UFO Sightings by Year')\n",
        "plt.xlabel(\"Year\")\n",
        "plt.ylabel(\"Number of reports\")\n",
        "years_plot = sns.barplot(x=years_index[:60],y=years_values[:60], palette = \"Reds\")"
      ],
      "execution_count": 14,
      "outputs": [
        {
          "output_type": "display_data",
          "data": {
            "image/png": "[encoded data removed]",
            "text/plain": [
              "<Figure size 1080x576 with 1 Axes>"
            ]
          },
          "metadata": {
            "tags": [],
            "needs_background": "light"
          }
        }
      ]
    },
    {
      "cell_type": "markdown",
      "metadata": {
        "id": "Y1MHZxOILJTV",
        "colab_type": "text"
      },
      "source": [
        "Q38. Write a pandas program to create a comparison of the top 10\n",
        "years in which the (UFO) was sighted VS each Month."
      ]
    },
    {
      "cell_type": "code",
      "metadata": {
        "id": "cScyFjHjLJTV",
        "colab_type": "code",
        "outputId": "f134b408-1d74-4ec6-dd53-f2566b6d7443",
        "colab": {
          "base_uri": "https://localhost:8080/",
          "height": 269
        }
      },
      "source": [
        "\n",
        "clean_df['datetime'] = clean_df['datetime'].astype('datetime64[ns]')\n",
        "most_sightings_years = clean_df['datetime'].dt.year.value_counts().head(10)\n",
        "def is_top_years(year):\n",
        "   if year in most_sightings_years.index:\n",
        "       return year\n",
        "hour_v_year = clean_df.pivot_table(columns=clean_df['datetime'].dt.hour,index=clean_df['datetime'].dt.year.apply(is_top_years),aggfunc='count',values='city')\n",
        "hour_v_year.columns = hour_v_year.columns.astype(int)\n",
        "hour_v_year.columns = hour_v_year.columns.astype(str) + \":00\"\n",
        "hour_v_year.index = hour_v_year.index.astype(int)\n",
        "print(\"\\nComparison of the top 10 years in which the UFO was sighted vs the hours of the day:\")\n",
        "print(hour_v_year.head(10))"
      ],
      "execution_count": 16,
      "outputs": [
        {
          "output_type": "stream",
          "text": [
            "\n",
            "Comparison of the top 10 years in which the UFO was sighted vs the hours of the day:\n",
            "      0:00  1:00  2:00  3:00  4:00  ...  19:00  20:00  21:00  22:00  23:00\n",
            "2003   220   194   156   105    74  ...    265    378    439    474    448\n",
            "2004   219   172   134   118   117  ...    319    469    508    536    410\n",
            "2005   214   159   119   116    74  ...    384    400    485    453    415\n",
            "2007   208   166   107    99    92  ...    295    429    557    567    425\n",
            "2008   278   203   149   120    81  ...    380    495    578    581    502\n",
            "2009   267   158    97    94   106  ...    380    544    686    555    455\n",
            "2010   263   155   104    90    76  ...    293    422    687    658    463\n",
            "2011   271   205   114   122    84  ...    399    587    829    758    474\n",
            "2012   356   244   160   152   120  ...    559    901   1307   1148    759\n",
            "2013   325   201   127   109    88  ...    593    919   1332   1141    673\n",
            "\n",
            "[10 rows x 24 columns]\n"
          ],
          "name": "stdout"
        }
      ]
    },
    {
      "cell_type": "markdown",
      "metadata": {
        "id": "4B-EmTE9LJTX",
        "colab_type": "text"
      },
      "source": [
        "Q39. Write a pandas program to create a heatmap (rectangular data as\n",
        "a colour-encoded matrix) for comparison of top 10 years in\n",
        "which (UFO ) was sighted VS each Month."
      ]
    },
    {
      "cell_type": "code",
      "metadata": {
        "id": "Ai4pP7qSLJTX",
        "colab_type": "code",
        "colab": {}
      },
      "source": [
        "\n",
        "clean_df['datetime'] = clean_df['datetime'].astype('datetime64[ns]')\n",
        "most_sightings_years = clean_df['datetime'].dt.year.value_counts().head(10)\n",
        "def is_top_years(year):\n",
        "   if year in most_sightings_years.index:\n",
        "       return year\n"
      ],
      "execution_count": 0,
      "outputs": []
    },
    {
      "cell_type": "code",
      "metadata": {
        "id": "CzYsr47pB23c",
        "colab_type": "code",
        "colab": {
          "base_uri": "https://localhost:8080/",
          "height": 373
        },
        "outputId": "f7151d55-0bde-4da2-ddf6-e3bda7bd3081"
      },
      "source": [
        "month_vs_year = clean_df.pivot_table(columns=clean_df['datetime'].dt.month,index=clean_df['datetime'].dt.year.apply(is_top_years),aggfunc='count',values='city')\n",
        "month_vs_year.columns = month_vs_year.columns.astype(int)\n",
        "month_vs_year"
      ],
      "execution_count": 18,
      "outputs": [
        {
          "output_type": "execute_result",
          "data": {
            "text/html": [
              "<div>\n",
              "<style scoped>\n",
              "    .dataframe tbody tr th:only-of-type {\n",
              "        vertical-align: middle;\n",
              "    }\n",
              "\n",
              "    .dataframe tbody tr th {\n",
              "        vertical-align: top;\n",
              "    }\n",
              "\n",
              "    .dataframe thead th {\n",
              "        text-align: right;\n",
              "    }\n",
              "</style>\n",
              "<table border=\"1\" class=\"dataframe\">\n",
              "  <thead>\n",
              "    <tr style=\"text-align: right;\">\n",
              "      <th></th>\n",
              "      <th>1</th>\n",
              "      <th>2</th>\n",
              "      <th>3</th>\n",
              "      <th>4</th>\n",
              "      <th>5</th>\n",
              "      <th>6</th>\n",
              "      <th>7</th>\n",
              "      <th>8</th>\n",
              "      <th>9</th>\n",
              "      <th>10</th>\n",
              "      <th>11</th>\n",
              "      <th>12</th>\n",
              "    </tr>\n",
              "    <tr>\n",
              "      <th>datetime</th>\n",
              "      <th></th>\n",
              "      <th></th>\n",
              "      <th></th>\n",
              "      <th></th>\n",
              "      <th></th>\n",
              "      <th></th>\n",
              "      <th></th>\n",
              "      <th></th>\n",
              "      <th></th>\n",
              "      <th></th>\n",
              "      <th></th>\n",
              "      <th></th>\n",
              "    </tr>\n",
              "  </thead>\n",
              "  <tbody>\n",
              "    <tr>\n",
              "      <th>2003.0</th>\n",
              "      <td>284</td>\n",
              "      <td>229</td>\n",
              "      <td>168</td>\n",
              "      <td>202</td>\n",
              "      <td>218</td>\n",
              "      <td>269</td>\n",
              "      <td>405</td>\n",
              "      <td>498</td>\n",
              "      <td>465</td>\n",
              "      <td>421</td>\n",
              "      <td>435</td>\n",
              "      <td>341</td>\n",
              "    </tr>\n",
              "    <tr>\n",
              "      <th>2004.0</th>\n",
              "      <td>263</td>\n",
              "      <td>264</td>\n",
              "      <td>368</td>\n",
              "      <td>354</td>\n",
              "      <td>348</td>\n",
              "      <td>371</td>\n",
              "      <td>396</td>\n",
              "      <td>497</td>\n",
              "      <td>374</td>\n",
              "      <td>414</td>\n",
              "      <td>293</td>\n",
              "      <td>278</td>\n",
              "    </tr>\n",
              "    <tr>\n",
              "      <th>2005.0</th>\n",
              "      <td>227</td>\n",
              "      <td>253</td>\n",
              "      <td>325</td>\n",
              "      <td>291</td>\n",
              "      <td>270</td>\n",
              "      <td>366</td>\n",
              "      <td>415</td>\n",
              "      <td>317</td>\n",
              "      <td>474</td>\n",
              "      <td>435</td>\n",
              "      <td>414</td>\n",
              "      <td>252</td>\n",
              "    </tr>\n",
              "    <tr>\n",
              "      <th>2007.0</th>\n",
              "      <td>397</td>\n",
              "      <td>242</td>\n",
              "      <td>329</td>\n",
              "      <td>288</td>\n",
              "      <td>274</td>\n",
              "      <td>379</td>\n",
              "      <td>429</td>\n",
              "      <td>429</td>\n",
              "      <td>416</td>\n",
              "      <td>395</td>\n",
              "      <td>340</td>\n",
              "      <td>325</td>\n",
              "    </tr>\n",
              "    <tr>\n",
              "      <th>2008.0</th>\n",
              "      <td>427</td>\n",
              "      <td>340</td>\n",
              "      <td>302</td>\n",
              "      <td>401</td>\n",
              "      <td>308</td>\n",
              "      <td>438</td>\n",
              "      <td>527</td>\n",
              "      <td>467</td>\n",
              "      <td>355</td>\n",
              "      <td>481</td>\n",
              "      <td>417</td>\n",
              "      <td>314</td>\n",
              "    </tr>\n",
              "    <tr>\n",
              "      <th>2009.0</th>\n",
              "      <td>449</td>\n",
              "      <td>360</td>\n",
              "      <td>312</td>\n",
              "      <td>293</td>\n",
              "      <td>336</td>\n",
              "      <td>354</td>\n",
              "      <td>536</td>\n",
              "      <td>463</td>\n",
              "      <td>568</td>\n",
              "      <td>286</td>\n",
              "      <td>292</td>\n",
              "      <td>259</td>\n",
              "    </tr>\n",
              "    <tr>\n",
              "      <th>2010.0</th>\n",
              "      <td>255</td>\n",
              "      <td>171</td>\n",
              "      <td>233</td>\n",
              "      <td>266</td>\n",
              "      <td>303</td>\n",
              "      <td>339</td>\n",
              "      <td>789</td>\n",
              "      <td>477</td>\n",
              "      <td>414</td>\n",
              "      <td>420</td>\n",
              "      <td>314</td>\n",
              "      <td>277</td>\n",
              "    </tr>\n",
              "    <tr>\n",
              "      <th>2011.0</th>\n",
              "      <td>294</td>\n",
              "      <td>252</td>\n",
              "      <td>309</td>\n",
              "      <td>293</td>\n",
              "      <td>281</td>\n",
              "      <td>370</td>\n",
              "      <td>711</td>\n",
              "      <td>597</td>\n",
              "      <td>502</td>\n",
              "      <td>588</td>\n",
              "      <td>400</td>\n",
              "      <td>480</td>\n",
              "    </tr>\n",
              "    <tr>\n",
              "      <th>2012.0</th>\n",
              "      <td>526</td>\n",
              "      <td>357</td>\n",
              "      <td>485</td>\n",
              "      <td>459</td>\n",
              "      <td>466</td>\n",
              "      <td>693</td>\n",
              "      <td>874</td>\n",
              "      <td>821</td>\n",
              "      <td>690</td>\n",
              "      <td>617</td>\n",
              "      <td>711</td>\n",
              "      <td>609</td>\n",
              "    </tr>\n",
              "    <tr>\n",
              "      <th>2013.0</th>\n",
              "      <td>354</td>\n",
              "      <td>260</td>\n",
              "      <td>365</td>\n",
              "      <td>384</td>\n",
              "      <td>485</td>\n",
              "      <td>579</td>\n",
              "      <td>898</td>\n",
              "      <td>838</td>\n",
              "      <td>713</td>\n",
              "      <td>717</td>\n",
              "      <td>712</td>\n",
              "      <td>687</td>\n",
              "    </tr>\n",
              "  </tbody>\n",
              "</table>\n",
              "</div>"
            ],
            "text/plain": [
              "           1    2    3    4    5    6    7    8    9    10   11   12\n",
              "datetime                                                            \n",
              "2003.0    284  229  168  202  218  269  405  498  465  421  435  341\n",
              "2004.0    263  264  368  354  348  371  396  497  374  414  293  278\n",
              "2005.0    227  253  325  291  270  366  415  317  474  435  414  252\n",
              "2007.0    397  242  329  288  274  379  429  429  416  395  340  325\n",
              "2008.0    427  340  302  401  308  438  527  467  355  481  417  314\n",
              "2009.0    449  360  312  293  336  354  536  463  568  286  292  259\n",
              "2010.0    255  171  233  266  303  339  789  477  414  420  314  277\n",
              "2011.0    294  252  309  293  281  370  711  597  502  588  400  480\n",
              "2012.0    526  357  485  459  466  693  874  821  690  617  711  609\n",
              "2013.0    354  260  365  384  485  579  898  838  713  717  712  687"
            ]
          },
          "metadata": {
            "tags": []
          },
          "execution_count": 18
        }
      ]
    },
    {
      "cell_type": "code",
      "metadata": {
        "id": "FcJ2lNQ5CDpB",
        "colab_type": "code",
        "colab": {
          "base_uri": "https://localhost:8080/",
          "height": 506
        },
        "outputId": "04ddb705-2bdd-41bf-a6a2-472bb8faa116"
      },
      "source": [
        "plt.figure(figsize=(10,8))\n",
        "ax = sns.heatmap(month_vs_year,cmap='coolwarm')\n",
        "ax.set_xlabel('Month').set_size(20)\n",
        "ax.set_ylabel('Year').set_size(20)"
      ],
      "execution_count": 19,
      "outputs": [
        {
          "output_type": "display_data",
          "data": {
            "image/png": "[encoded data removed]",
            "text/plain": [
              "<Figure size 720x576 with 2 Axes>"
            ]
          },
          "metadata": {
            "tags": [],
            "needs_background": "light"
          }
        }
      ]
    },
    {
      "cell_type": "markdown",
      "metadata": {
        "id": "ZIEPpVtJLJTZ",
        "colab_type": "text"
      },
      "source": [
        "Q40. Write a pandas program to create a Timewheel of Hour VS Year\n",
        "comparison of the top 10 years in which the (UFO) was sighted"
      ]
    },
    {
      "cell_type": "code",
      "metadata": {
        "id": "vM1DJdz4LJTZ",
        "colab_type": "code",
        "colab": {}
      },
      "source": [
        "\n",
        "clean_df['datetime'] = clean_df['datetime'].astype('datetime64[ns]')\n",
        "most_sightings_years = clean_df['datetime'].dt.year.value_counts().head(10)\n",
        "def is_top_years(year):\n",
        "   if year in most_sightings_years.index:\n",
        "       return year\n"
      ],
      "execution_count": 0,
      "outputs": []
    },
    {
      "cell_type": "code",
      "metadata": {
        "id": "StK2QcW_Dg6U",
        "colab_type": "code",
        "colab": {
          "base_uri": "https://localhost:8080/",
          "height": 363
        },
        "outputId": "3c93d4fa-076c-447f-8385-221f826f5358"
      },
      "source": [
        "hour_vs_year = clean_df.pivot_table(columns=clean_df['datetime'].dt.hour,index=clean_df['datetime'].dt.year.apply(is_top_years),aggfunc='count',values='city')\n",
        "hour_vs_year.columns = hour_vs_year.columns.astype(int)\n",
        "hour_vs_year.columns = hour_vs_year.columns.astype(str) + \":00\"\n",
        "hour_vs_year.index = hour_vs_year.index.astype(int)\n",
        "hour_vs_year"
      ],
      "execution_count": 22,
      "outputs": [
        {
          "output_type": "execute_result",
          "data": {
            "text/html": [
              "<div>\n",
              "<style scoped>\n",
              "    .dataframe tbody tr th:only-of-type {\n",
              "        vertical-align: middle;\n",
              "    }\n",
              "\n",
              "    .dataframe tbody tr th {\n",
              "        vertical-align: top;\n",
              "    }\n",
              "\n",
              "    .dataframe thead th {\n",
              "        text-align: right;\n",
              "    }\n",
              "</style>\n",
              "<table border=\"1\" class=\"dataframe\">\n",
              "  <thead>\n",
              "    <tr style=\"text-align: right;\">\n",
              "      <th></th>\n",
              "      <th>0:00</th>\n",
              "      <th>1:00</th>\n",
              "      <th>2:00</th>\n",
              "      <th>3:00</th>\n",
              "      <th>4:00</th>\n",
              "      <th>5:00</th>\n",
              "      <th>6:00</th>\n",
              "      <th>7:00</th>\n",
              "      <th>8:00</th>\n",
              "      <th>9:00</th>\n",
              "      <th>10:00</th>\n",
              "      <th>11:00</th>\n",
              "      <th>12:00</th>\n",
              "      <th>13:00</th>\n",
              "      <th>14:00</th>\n",
              "      <th>15:00</th>\n",
              "      <th>16:00</th>\n",
              "      <th>17:00</th>\n",
              "      <th>18:00</th>\n",
              "      <th>19:00</th>\n",
              "      <th>20:00</th>\n",
              "      <th>21:00</th>\n",
              "      <th>22:00</th>\n",
              "      <th>23:00</th>\n",
              "    </tr>\n",
              "  </thead>\n",
              "  <tbody>\n",
              "    <tr>\n",
              "      <th>2003</th>\n",
              "      <td>220</td>\n",
              "      <td>194</td>\n",
              "      <td>156</td>\n",
              "      <td>105</td>\n",
              "      <td>74</td>\n",
              "      <td>80</td>\n",
              "      <td>65</td>\n",
              "      <td>49</td>\n",
              "      <td>32</td>\n",
              "      <td>34</td>\n",
              "      <td>59</td>\n",
              "      <td>60</td>\n",
              "      <td>65</td>\n",
              "      <td>83</td>\n",
              "      <td>83</td>\n",
              "      <td>80</td>\n",
              "      <td>123</td>\n",
              "      <td>144</td>\n",
              "      <td>225</td>\n",
              "      <td>265</td>\n",
              "      <td>378</td>\n",
              "      <td>439</td>\n",
              "      <td>474</td>\n",
              "      <td>448</td>\n",
              "    </tr>\n",
              "    <tr>\n",
              "      <th>2004</th>\n",
              "      <td>219</td>\n",
              "      <td>172</td>\n",
              "      <td>134</td>\n",
              "      <td>118</td>\n",
              "      <td>117</td>\n",
              "      <td>97</td>\n",
              "      <td>75</td>\n",
              "      <td>54</td>\n",
              "      <td>37</td>\n",
              "      <td>53</td>\n",
              "      <td>62</td>\n",
              "      <td>83</td>\n",
              "      <td>91</td>\n",
              "      <td>74</td>\n",
              "      <td>73</td>\n",
              "      <td>99</td>\n",
              "      <td>105</td>\n",
              "      <td>129</td>\n",
              "      <td>186</td>\n",
              "      <td>319</td>\n",
              "      <td>469</td>\n",
              "      <td>508</td>\n",
              "      <td>536</td>\n",
              "      <td>410</td>\n",
              "    </tr>\n",
              "    <tr>\n",
              "      <th>2005</th>\n",
              "      <td>214</td>\n",
              "      <td>159</td>\n",
              "      <td>119</td>\n",
              "      <td>116</td>\n",
              "      <td>74</td>\n",
              "      <td>87</td>\n",
              "      <td>64</td>\n",
              "      <td>52</td>\n",
              "      <td>42</td>\n",
              "      <td>47</td>\n",
              "      <td>54</td>\n",
              "      <td>56</td>\n",
              "      <td>77</td>\n",
              "      <td>90</td>\n",
              "      <td>87</td>\n",
              "      <td>90</td>\n",
              "      <td>95</td>\n",
              "      <td>153</td>\n",
              "      <td>226</td>\n",
              "      <td>384</td>\n",
              "      <td>400</td>\n",
              "      <td>485</td>\n",
              "      <td>453</td>\n",
              "      <td>415</td>\n",
              "    </tr>\n",
              "    <tr>\n",
              "      <th>2007</th>\n",
              "      <td>208</td>\n",
              "      <td>166</td>\n",
              "      <td>107</td>\n",
              "      <td>99</td>\n",
              "      <td>92</td>\n",
              "      <td>112</td>\n",
              "      <td>84</td>\n",
              "      <td>38</td>\n",
              "      <td>53</td>\n",
              "      <td>57</td>\n",
              "      <td>66</td>\n",
              "      <td>77</td>\n",
              "      <td>93</td>\n",
              "      <td>81</td>\n",
              "      <td>83</td>\n",
              "      <td>90</td>\n",
              "      <td>83</td>\n",
              "      <td>160</td>\n",
              "      <td>221</td>\n",
              "      <td>295</td>\n",
              "      <td>429</td>\n",
              "      <td>557</td>\n",
              "      <td>567</td>\n",
              "      <td>425</td>\n",
              "    </tr>\n",
              "    <tr>\n",
              "      <th>2008</th>\n",
              "      <td>278</td>\n",
              "      <td>203</td>\n",
              "      <td>149</td>\n",
              "      <td>120</td>\n",
              "      <td>81</td>\n",
              "      <td>106</td>\n",
              "      <td>85</td>\n",
              "      <td>67</td>\n",
              "      <td>64</td>\n",
              "      <td>65</td>\n",
              "      <td>96</td>\n",
              "      <td>89</td>\n",
              "      <td>86</td>\n",
              "      <td>86</td>\n",
              "      <td>92</td>\n",
              "      <td>75</td>\n",
              "      <td>89</td>\n",
              "      <td>151</td>\n",
              "      <td>259</td>\n",
              "      <td>380</td>\n",
              "      <td>495</td>\n",
              "      <td>578</td>\n",
              "      <td>581</td>\n",
              "      <td>502</td>\n",
              "    </tr>\n",
              "    <tr>\n",
              "      <th>2009</th>\n",
              "      <td>267</td>\n",
              "      <td>158</td>\n",
              "      <td>97</td>\n",
              "      <td>94</td>\n",
              "      <td>106</td>\n",
              "      <td>90</td>\n",
              "      <td>71</td>\n",
              "      <td>37</td>\n",
              "      <td>46</td>\n",
              "      <td>73</td>\n",
              "      <td>70</td>\n",
              "      <td>71</td>\n",
              "      <td>77</td>\n",
              "      <td>51</td>\n",
              "      <td>62</td>\n",
              "      <td>66</td>\n",
              "      <td>82</td>\n",
              "      <td>143</td>\n",
              "      <td>227</td>\n",
              "      <td>380</td>\n",
              "      <td>544</td>\n",
              "      <td>686</td>\n",
              "      <td>555</td>\n",
              "      <td>455</td>\n",
              "    </tr>\n",
              "    <tr>\n",
              "      <th>2010</th>\n",
              "      <td>263</td>\n",
              "      <td>155</td>\n",
              "      <td>104</td>\n",
              "      <td>90</td>\n",
              "      <td>76</td>\n",
              "      <td>87</td>\n",
              "      <td>59</td>\n",
              "      <td>47</td>\n",
              "      <td>44</td>\n",
              "      <td>67</td>\n",
              "      <td>81</td>\n",
              "      <td>63</td>\n",
              "      <td>70</td>\n",
              "      <td>63</td>\n",
              "      <td>38</td>\n",
              "      <td>76</td>\n",
              "      <td>72</td>\n",
              "      <td>98</td>\n",
              "      <td>182</td>\n",
              "      <td>293</td>\n",
              "      <td>422</td>\n",
              "      <td>687</td>\n",
              "      <td>658</td>\n",
              "      <td>463</td>\n",
              "    </tr>\n",
              "    <tr>\n",
              "      <th>2011</th>\n",
              "      <td>271</td>\n",
              "      <td>205</td>\n",
              "      <td>114</td>\n",
              "      <td>122</td>\n",
              "      <td>84</td>\n",
              "      <td>106</td>\n",
              "      <td>71</td>\n",
              "      <td>42</td>\n",
              "      <td>59</td>\n",
              "      <td>71</td>\n",
              "      <td>65</td>\n",
              "      <td>80</td>\n",
              "      <td>66</td>\n",
              "      <td>62</td>\n",
              "      <td>58</td>\n",
              "      <td>74</td>\n",
              "      <td>72</td>\n",
              "      <td>163</td>\n",
              "      <td>245</td>\n",
              "      <td>399</td>\n",
              "      <td>587</td>\n",
              "      <td>829</td>\n",
              "      <td>758</td>\n",
              "      <td>474</td>\n",
              "    </tr>\n",
              "    <tr>\n",
              "      <th>2012</th>\n",
              "      <td>356</td>\n",
              "      <td>244</td>\n",
              "      <td>160</td>\n",
              "      <td>152</td>\n",
              "      <td>120</td>\n",
              "      <td>122</td>\n",
              "      <td>113</td>\n",
              "      <td>85</td>\n",
              "      <td>71</td>\n",
              "      <td>96</td>\n",
              "      <td>107</td>\n",
              "      <td>84</td>\n",
              "      <td>83</td>\n",
              "      <td>68</td>\n",
              "      <td>65</td>\n",
              "      <td>87</td>\n",
              "      <td>108</td>\n",
              "      <td>204</td>\n",
              "      <td>309</td>\n",
              "      <td>559</td>\n",
              "      <td>901</td>\n",
              "      <td>1307</td>\n",
              "      <td>1148</td>\n",
              "      <td>759</td>\n",
              "    </tr>\n",
              "    <tr>\n",
              "      <th>2013</th>\n",
              "      <td>325</td>\n",
              "      <td>201</td>\n",
              "      <td>127</td>\n",
              "      <td>109</td>\n",
              "      <td>88</td>\n",
              "      <td>94</td>\n",
              "      <td>93</td>\n",
              "      <td>79</td>\n",
              "      <td>70</td>\n",
              "      <td>73</td>\n",
              "      <td>75</td>\n",
              "      <td>83</td>\n",
              "      <td>58</td>\n",
              "      <td>51</td>\n",
              "      <td>44</td>\n",
              "      <td>55</td>\n",
              "      <td>114</td>\n",
              "      <td>224</td>\n",
              "      <td>371</td>\n",
              "      <td>593</td>\n",
              "      <td>919</td>\n",
              "      <td>1332</td>\n",
              "      <td>1141</td>\n",
              "      <td>673</td>\n",
              "    </tr>\n",
              "  </tbody>\n",
              "</table>\n",
              "</div>"
            ],
            "text/plain": [
              "      0:00  1:00  2:00  3:00  4:00  ...  19:00  20:00  21:00  22:00  23:00\n",
              "2003   220   194   156   105    74  ...    265    378    439    474    448\n",
              "2004   219   172   134   118   117  ...    319    469    508    536    410\n",
              "2005   214   159   119   116    74  ...    384    400    485    453    415\n",
              "2007   208   166   107    99    92  ...    295    429    557    567    425\n",
              "2008   278   203   149   120    81  ...    380    495    578    581    502\n",
              "2009   267   158    97    94   106  ...    380    544    686    555    455\n",
              "2010   263   155   104    90    76  ...    293    422    687    658    463\n",
              "2011   271   205   114   122    84  ...    399    587    829    758    474\n",
              "2012   356   244   160   152   120  ...    559    901   1307   1148    759\n",
              "2013   325   201   127   109    88  ...    593    919   1332   1141    673\n",
              "\n",
              "[10 rows x 24 columns]"
            ]
          },
          "metadata": {
            "tags": []
          },
          "execution_count": 22
        }
      ]
    },
    {
      "cell_type": "code",
      "metadata": {
        "id": "UXGsukkyDiP5",
        "colab_type": "code",
        "colab": {
          "base_uri": "https://localhost:8080/",
          "height": 545
        },
        "outputId": "58fd8d12-29a6-4808-f115-b5e8459de107"
      },
      "source": [
        "def pie_heatmap(table, cmap='coolwarm_r', vmin=None, vmax=None,inner_r=0.25, pie_args={}):\n",
        "    n, m = table.shape\n",
        "    vmin= table.min().min() if vmin is None else vmin\n",
        "    vmax= table.max().max() if vmax is None else vmax\n",
        "\n",
        "    centre_circle = plt.Circle((0,0),inner_r,edgecolor='black',facecolor='white',fill=True,linewidth=0.25)\n",
        "    plt.gcf().gca().add_artist(centre_circle)\n",
        "    norm = mpl.colors.Normalize(vmin=vmin, vmax=vmax)\n",
        "    cmapper = cm.ScalarMappable(norm=norm, cmap=cmap)\n",
        "  \n",
        "    for i, (row_name, row) in enumerate(table.iterrows()):\n",
        "        labels = None if i > 0 else table.columns\n",
        "        wedges = plt.pie([1] * m,radius=inner_r+float(n-i)/n, colors=[cmapper.to_rgba(x) for x in row.values], \n",
        "            labels=labels, startangle=90, counterclock=False, wedgeprops={'linewidth':-1}, **pie_args)\n",
        "        plt.setp(wedges[0], edgecolor='grey',linewidth=1.5)\n",
        "        wedges = plt.pie([1], radius=inner_r+float(n-i-1)/n, colors=['w'], labels=[row_name], startangle=-90, wedgeprops={'linewidth':0})\n",
        "        plt.setp(wedges[0], edgecolor='grey',linewidth=1.5)\n",
        "\n",
        "\n",
        "\n",
        "plt.figure(figsize=(8,8))\n",
        "plt.title(\"Timewheel of Hour Vs Year\",y=1.08,fontsize=30)\n",
        "pie_heatmap(hour_vs_year, vmin=-20,vmax=80,inner_r=0.2)"
      ],
      "execution_count": 23,
      "outputs": [
        {
          "output_type": "display_data",
          "data": {
            "image/png": "[encoded data removed]",
            "text/plain": [
              "<Figure size 576x576 with 1 Axes>"
            ]
          },
          "metadata": {
            "tags": []
          }
        }
      ]
    },
    {
      "cell_type": "markdown",
      "metadata": {
        "id": "EI-02a-uLJTb",
        "colab_type": "text"
      },
      "source": [
        "## Great Job!"
      ]
    }
  ]
}